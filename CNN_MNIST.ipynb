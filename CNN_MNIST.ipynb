{
 "cells": [
  {
   "cell_type": "code",
   "execution_count": 1,
   "metadata": {
    "colab": {
     "base_uri": "https://localhost:8080/",
     "height": 35
    },
    "colab_type": "code",
    "id": "ZFkHpm_U3vIi",
    "outputId": "9130efc8-115d-4ac9-a77f-93fa88272342"
   },
   "outputs": [
    {
     "name": "stderr",
     "output_type": "stream",
     "text": [
      "Using TensorFlow backend.\n"
     ]
    }
   ],
   "source": [
    "from __future__ import print_function\n",
    "import keras\n",
    "from keras.datasets import mnist\n",
    "from keras.models import Sequential\n",
    "from keras.layers import Dense, Dropout, Flatten\n",
    "from keras.layers import Conv2D, MaxPooling2D\n",
    "from keras import backend as K\n",
    "import matplotlib.pyplot as plt\n",
    "import seaborn as sns"
   ]
  },
  {
   "cell_type": "code",
   "execution_count": 0,
   "metadata": {
    "colab": {},
    "colab_type": "code",
    "id": "tCfc0eJLlDDB"
   },
   "outputs": [],
   "source": [
    "def plt_dyn(x, yval, ytrain, ax, colors=['b']):\n",
    "  ax.plot(x, yval, 'b', label='Validation loss')\n",
    "  ax.plot(x, ytrain, 'r', label='Training loss')\n",
    "  plt.legend()\n",
    "  plt.grid()\n",
    "  fig.canvas.draw()"
   ]
  },
  {
   "cell_type": "code",
   "execution_count": 3,
   "metadata": {
    "colab": {
     "base_uri": "https://localhost:8080/",
     "height": 53
    },
    "colab_type": "code",
    "id": "kP0WwKnV4EYG",
    "outputId": "63c1ba0b-2eca-4f9c-b8ae-52878b488951"
   },
   "outputs": [
    {
     "name": "stdout",
     "output_type": "stream",
     "text": [
      "Downloading data from https://s3.amazonaws.com/img-datasets/mnist.npz\n",
      "11493376/11490434 [==============================] - 1s 0us/step\n"
     ]
    }
   ],
   "source": [
    "batch_size = 128\n",
    "num_cls = 10\n",
    "epochs = 12\n",
    "\n",
    "img_rows, img_cols = 28,28\n",
    "(x_train, y_train), (x_test, y_test) = mnist.load_data()\n",
    "\n",
    "if K.image_data_format() == 'channels_first':\n",
    "    x_train = x_train.reshape(x_train.shape[0], 1, img_rows, img_cols)\n",
    "    x_test = x_test.reshape(x_test.shape[0], 1, img_rows, img_cols)\n",
    "    input_shape = (1, img_rows, img_cols)\n",
    "else:\n",
    "    x_train = x_train.reshape(x_train.shape[0], img_rows, img_cols, 1)\n",
    "    x_test = x_test.reshape(x_test.shape[0], img_rows, img_cols, 1)\n",
    "    input_shape = (img_rows, img_cols, 1)\n",
    "\n",
    "x_train = x_train.astype('float32')\n",
    "x_test = x_test.astype('float32')\n",
    "x_train /= 255\n",
    "x_test /= 255\n",
    "\n",
    "# convert class vectors to binary class matrices\n",
    "y_train = keras.utils.to_categorical(y_train, num_cls)\n",
    "y_test = keras.utils.to_categorical(y_test, num_cls)"
   ]
  },
  {
   "cell_type": "markdown",
   "metadata": {
    "colab_type": "text",
    "id": "JtdZqy_sVQhl"
   },
   "source": [
    "## Model 1"
   ]
  },
  {
   "cell_type": "code",
   "execution_count": 0,
   "metadata": {
    "colab": {
     "base_uri": "https://localhost:8080/",
     "height": 665
    },
    "colab_type": "code",
    "id": "mTWHrkLE7c2V",
    "outputId": "058850a0-b467-4dd9-fd5c-5ed003e967a7"
   },
   "outputs": [
    {
     "name": "stdout",
     "output_type": "stream",
     "text": [
      "WARNING:tensorflow:From /usr/local/lib/python3.6/dist-packages/tensorflow/python/framework/op_def_library.py:263: colocate_with (from tensorflow.python.framework.ops) is deprecated and will be removed in a future version.\n",
      "Instructions for updating:\n",
      "Colocations handled automatically by placer.\n",
      "WARNING:tensorflow:From /usr/local/lib/python3.6/dist-packages/keras/backend/tensorflow_backend.py:3445: calling dropout (from tensorflow.python.ops.nn_ops) with keep_prob is deprecated and will be removed in a future version.\n",
      "Instructions for updating:\n",
      "Please use `rate` instead of `keep_prob`. Rate should be set to `rate = 1 - keep_prob`.\n",
      "WARNING:tensorflow:From /usr/local/lib/python3.6/dist-packages/tensorflow/python/ops/math_ops.py:3066: to_int32 (from tensorflow.python.ops.math_ops) is deprecated and will be removed in a future version.\n",
      "Instructions for updating:\n",
      "Use tf.cast instead.\n",
      "Train on 60000 samples, validate on 10000 samples\n",
      "Epoch 1/12\n",
      "60000/60000 [==============================] - 168s 3ms/step - loss: 0.2651 - acc: 0.9181 - val_loss: 0.0620 - val_acc: 0.9803\n",
      "Epoch 2/12\n",
      "60000/60000 [==============================] - 168s 3ms/step - loss: 0.0907 - acc: 0.9733 - val_loss: 0.0462 - val_acc: 0.9853\n",
      "Epoch 3/12\n",
      "60000/60000 [==============================] - 168s 3ms/step - loss: 0.0676 - acc: 0.9804 - val_loss: 0.0383 - val_acc: 0.9866\n",
      "Epoch 4/12\n",
      "60000/60000 [==============================] - 169s 3ms/step - loss: 0.0549 - acc: 0.9834 - val_loss: 0.0311 - val_acc: 0.9889\n",
      "Epoch 5/12\n",
      "60000/60000 [==============================] - 168s 3ms/step - loss: 0.0475 - acc: 0.9858 - val_loss: 0.0308 - val_acc: 0.9890\n",
      "Epoch 6/12\n",
      "60000/60000 [==============================] - 168s 3ms/step - loss: 0.0415 - acc: 0.9871 - val_loss: 0.0354 - val_acc: 0.9889\n",
      "Epoch 7/12\n",
      "60000/60000 [==============================] - 168s 3ms/step - loss: 0.0345 - acc: 0.9895 - val_loss: 0.0288 - val_acc: 0.9905\n",
      "Epoch 8/12\n",
      "60000/60000 [==============================] - 169s 3ms/step - loss: 0.0337 - acc: 0.9894 - val_loss: 0.0289 - val_acc: 0.9909\n",
      "Epoch 9/12\n",
      "60000/60000 [==============================] - 168s 3ms/step - loss: 0.0307 - acc: 0.9904 - val_loss: 0.0279 - val_acc: 0.9906\n",
      "Epoch 10/12\n",
      "60000/60000 [==============================] - 169s 3ms/step - loss: 0.0291 - acc: 0.9908 - val_loss: 0.0274 - val_acc: 0.9903\n",
      "Epoch 11/12\n",
      "60000/60000 [==============================] - 168s 3ms/step - loss: 0.0279 - acc: 0.9915 - val_loss: 0.0280 - val_acc: 0.9916\n",
      "Epoch 12/12\n",
      "60000/60000 [==============================] - 168s 3ms/step - loss: 0.0274 - acc: 0.9916 - val_loss: 0.0239 - val_acc: 0.9919\n",
      "Test loss: 0.02388223222637898\n",
      "Test accuracy: 0.9919\n"
     ]
    }
   ],
   "source": [
    "model = Sequential()\n",
    "model.add(Conv2D(32, kernel_size=(3, 3),\n",
    "                 activation='relu',\n",
    "                 input_shape=input_shape))\n",
    "model.add(Conv2D(64, (3, 3), activation='relu'))\n",
    "model.add(MaxPooling2D(pool_size=(2, 2)))\n",
    "model.add(Dropout(0.25))\n",
    "model.add(Flatten())\n",
    "model.add(Dense(128, activation='relu'))\n",
    "model.add(Dropout(0.5))\n",
    "model.add(Dense(num_cls, activation='softmax'))\n",
    "\n",
    "model.compile(loss=keras.losses.categorical_crossentropy,\n",
    "              optimizer=keras.optimizers.Adadelta(),\n",
    "              metrics=['accuracy'])\n",
    "\n",
    "hist = model.fit(x_train, y_train,\n",
    "          batch_size=batch_size,\n",
    "          epochs=epochs,\n",
    "          verbose=1,\n",
    "          validation_data=(x_test, y_test))\n",
    "score = model.evaluate(x_test, y_test, verbose=0)\n",
    "print('Test loss:', score[0])\n",
    "print('Test accuracy:', score[1])"
   ]
  },
  {
   "cell_type": "code",
   "execution_count": 0,
   "metadata": {
    "colab": {
     "base_uri": "https://localhost:8080/",
     "height": 397
    },
    "colab_type": "code",
    "id": "n0tSo54YlpBn",
    "outputId": "61e48d17-9bd7-4b50-fcba-e8ba3666c904"
   },
   "outputs": [
    {
     "name": "stdout",
     "output_type": "stream",
     "text": [
      "Test score: 0.02388223222637898\n",
      "Test accuracy: 0.9919\n"
     ]
    },
    {
     "data": {
      "image/png": "[encoded data removed]",
      "text/plain": [
       "<Figure size 576x396 with 1 Axes>"
      ]
     },
     "metadata": {
      "tags": []
     },
     "output_type": "display_data"
    }
   ],
   "source": [
    "score = model.evaluate(x_test, y_test, verbose=0)\n",
    "print('Test score:', score[0]) \n",
    "print('Test accuracy:', score[1])\n",
    "\n",
    "fig,ax = plt.subplots(1,1)\n",
    "ax.set_xlabel('epoch') ; ax.set_ylabel('Categorical Crossentropy Loss')\n",
    "\n",
    "x = list(range(1,epochs+1))\n",
    "\n",
    "vy = hist.history['val_loss']\n",
    "ty = hist.history['loss']\n",
    "plt_dyn(x, vy, ty, ax)"
   ]
  },
  {
   "cell_type": "markdown",
   "metadata": {
    "colab_type": "text",
    "id": "gwzpWzQblOgT"
   },
   "source": [
    "## Model 1.1"
   ]
  },
  {
   "cell_type": "code",
   "execution_count": 4,
   "metadata": {
    "colab": {
     "base_uri": "https://localhost:8080/",
     "height": 665
    },
    "colab_type": "code",
    "id": "wiIkIN9SVa1l",
    "outputId": "693da42c-581f-4d1b-d572-5dee4de3d510"
   },
   "outputs": [
    {
     "name": "stdout",
     "output_type": "stream",
     "text": [
      "WARNING:tensorflow:From /usr/local/lib/python3.6/dist-packages/tensorflow/python/framework/op_def_library.py:263: colocate_with (from tensorflow.python.framework.ops) is deprecated and will be removed in a future version.\n",
      "Instructions for updating:\n",
      "Colocations handled automatically by placer.\n",
      "WARNING:tensorflow:From /usr/local/lib/python3.6/dist-packages/keras/backend/tensorflow_backend.py:3445: calling dropout (from tensorflow.python.ops.nn_ops) with keep_prob is deprecated and will be removed in a future version.\n",
      "Instructions for updating:\n",
      "Please use `rate` instead of `keep_prob`. Rate should be set to `rate = 1 - keep_prob`.\n",
      "WARNING:tensorflow:From /usr/local/lib/python3.6/dist-packages/tensorflow/python/ops/math_ops.py:3066: to_int32 (from tensorflow.python.ops.math_ops) is deprecated and will be removed in a future version.\n",
      "Instructions for updating:\n",
      "Use tf.cast instead.\n",
      "Train on 60000 samples, validate on 10000 samples\n",
      "Epoch 1/12\n",
      "60000/60000 [==============================] - 164s 3ms/step - loss: 0.3030 - acc: 0.9058 - val_loss: 0.0675 - val_acc: 0.9776\n",
      "Epoch 2/12\n",
      "60000/60000 [==============================] - 163s 3ms/step - loss: 0.1123 - acc: 0.9671 - val_loss: 0.0430 - val_acc: 0.9855\n",
      "Epoch 3/12\n",
      "60000/60000 [==============================] - 163s 3ms/step - loss: 0.0856 - acc: 0.9747 - val_loss: 0.0420 - val_acc: 0.9857\n",
      "Epoch 4/12\n",
      "60000/60000 [==============================] - 164s 3ms/step - loss: 0.0735 - acc: 0.9790 - val_loss: 0.0324 - val_acc: 0.9881\n",
      "Epoch 5/12\n",
      "60000/60000 [==============================] - 163s 3ms/step - loss: 0.0671 - acc: 0.9801 - val_loss: 0.0331 - val_acc: 0.9891\n",
      "Epoch 6/12\n",
      "60000/60000 [==============================] - 163s 3ms/step - loss: 0.0604 - acc: 0.9821 - val_loss: 0.0315 - val_acc: 0.9896\n",
      "Epoch 7/12\n",
      "60000/60000 [==============================] - 161s 3ms/step - loss: 0.0570 - acc: 0.9827 - val_loss: 0.0289 - val_acc: 0.9899\n",
      "Epoch 8/12\n",
      "60000/60000 [==============================] - 162s 3ms/step - loss: 0.0525 - acc: 0.9840 - val_loss: 0.0351 - val_acc: 0.9886\n",
      "Epoch 9/12\n",
      "60000/60000 [==============================] - 161s 3ms/step - loss: 0.0488 - acc: 0.9858 - val_loss: 0.0302 - val_acc: 0.9895\n",
      "Epoch 10/12\n",
      "60000/60000 [==============================] - 162s 3ms/step - loss: 0.0509 - acc: 0.9853 - val_loss: 0.0269 - val_acc: 0.9907\n",
      "Epoch 11/12\n",
      "60000/60000 [==============================] - 163s 3ms/step - loss: 0.0466 - acc: 0.9859 - val_loss: 0.0290 - val_acc: 0.9900\n",
      "Epoch 12/12\n",
      "60000/60000 [==============================] - 163s 3ms/step - loss: 0.0448 - acc: 0.9867 - val_loss: 0.0285 - val_acc: 0.9904\n",
      "Test loss: 0.028450544688415357\n",
      "Test accuracy: 0.9904\n"
     ]
    }
   ],
   "source": [
    "model = Sequential()\n",
    "model.add(Conv2D(32, kernel_size=(3, 3),\n",
    "                 activation='relu',\n",
    "                 input_shape=input_shape))\n",
    "model.add(Conv2D(64, (3, 3), activation='relu'))\n",
    "model.add(MaxPooling2D(pool_size=(2, 2)))\n",
    "model.add(Dropout(0.4))\n",
    "model.add(Flatten())\n",
    "model.add(Dense(128, activation='relu'))\n",
    "model.add(Dropout(0.6))\n",
    "model.add(Dense(num_cls, activation='softmax'))\n",
    "\n",
    "model.compile(loss=keras.losses.categorical_crossentropy,\n",
    "              optimizer=keras.optimizers.Adadelta(),\n",
    "              metrics=['accuracy'])\n",
    "\n",
    "hist = model.fit(x_train, y_train,\n",
    "          batch_size=batch_size,\n",
    "          epochs=epochs,\n",
    "          verbose=1,\n",
    "          validation_data=(x_test, y_test))\n",
    "score = model.evaluate(x_test, y_test, verbose=0)\n",
    "print('Test loss:', score[0])\n",
    "print('Test accuracy:', score[1])"
   ]
  },
  {
   "cell_type": "code",
   "execution_count": 5,
   "metadata": {
    "colab": {
     "base_uri": "https://localhost:8080/",
     "height": 397
    },
    "colab_type": "code",
    "id": "7qevSSy3Vo6O",
    "outputId": "d4345d4b-1167-41a8-f1df-43fe63855103"
   },
   "outputs": [
    {
     "name": "stdout",
     "output_type": "stream",
     "text": [
      "Test score: 0.028450544688415357\n",
      "Test accuracy: 0.9904\n"
     ]
    },
    {
     "data": {
      "image/png": "[encoded data removed]",
      "text/plain": [
       "<Figure size 576x396 with 1 Axes>"
      ]
     },
     "metadata": {
      "tags": []
     },
     "output_type": "display_data"
    }
   ],
   "source": [
    "score = model.evaluate(x_test, y_test, verbose=0)\n",
    "print('Test score:', score[0]) \n",
    "print('Test accuracy:', score[1])\n",
    "\n",
    "fig,ax = plt.subplots(1,1)\n",
    "ax.set_xlabel('epoch') ; ax.set_ylabel('Categorical Crossentropy Loss')\n",
    "\n",
    "x = list(range(1,epochs+1))\n",
    "\n",
    "vy = hist.history['val_loss']\n",
    "ty = hist.history['loss']\n",
    "plt_dyn(x, vy, ty, ax)"
   ]
  },
  {
   "cell_type": "markdown",
   "metadata": {
    "colab_type": "text",
    "id": "WlNMeZCclRjq"
   },
   "source": [
    "## Model 1.2"
   ]
  },
  {
   "cell_type": "code",
   "execution_count": 6,
   "metadata": {
    "colab": {
     "base_uri": "https://localhost:8080/",
     "height": 503
    },
    "colab_type": "code",
    "id": "YAdn2JnmVuJ1",
    "outputId": "ab5893f6-b101-4a88-a77c-98b138bc5b19"
   },
   "outputs": [
    {
     "name": "stdout",
     "output_type": "stream",
     "text": [
      "Train on 60000 samples, validate on 10000 samples\n",
      "Epoch 1/12\n",
      "60000/60000 [==============================] - 164s 3ms/step - loss: 0.2019 - acc: 0.9374 - val_loss: 0.0516 - val_acc: 0.9842\n",
      "Epoch 2/12\n",
      "60000/60000 [==============================] - 163s 3ms/step - loss: 0.0566 - acc: 0.9829 - val_loss: 0.0338 - val_acc: 0.9880\n",
      "Epoch 3/12\n",
      "60000/60000 [==============================] - 163s 3ms/step - loss: 0.0375 - acc: 0.9888 - val_loss: 0.0391 - val_acc: 0.9865\n",
      "Epoch 4/12\n",
      "60000/60000 [==============================] - 163s 3ms/step - loss: 0.0293 - acc: 0.9905 - val_loss: 0.0322 - val_acc: 0.9892\n",
      "Epoch 5/12\n",
      "60000/60000 [==============================] - 163s 3ms/step - loss: 0.0231 - acc: 0.9931 - val_loss: 0.0366 - val_acc: 0.9888\n",
      "Epoch 6/12\n",
      "60000/60000 [==============================] - 163s 3ms/step - loss: 0.0190 - acc: 0.9936 - val_loss: 0.0280 - val_acc: 0.9904\n",
      "Epoch 7/12\n",
      "60000/60000 [==============================] - 163s 3ms/step - loss: 0.0146 - acc: 0.9952 - val_loss: 0.0288 - val_acc: 0.9910\n",
      "Epoch 8/12\n",
      "60000/60000 [==============================] - 163s 3ms/step - loss: 0.0125 - acc: 0.9958 - val_loss: 0.0338 - val_acc: 0.9899\n",
      "Epoch 9/12\n",
      "60000/60000 [==============================] - 163s 3ms/step - loss: 0.0104 - acc: 0.9965 - val_loss: 0.0367 - val_acc: 0.9889\n",
      "Epoch 10/12\n",
      "60000/60000 [==============================] - 163s 3ms/step - loss: 0.0092 - acc: 0.9970 - val_loss: 0.0320 - val_acc: 0.9910\n",
      "Epoch 11/12\n",
      "60000/60000 [==============================] - 163s 3ms/step - loss: 0.0075 - acc: 0.9973 - val_loss: 0.0303 - val_acc: 0.9911\n",
      "Epoch 12/12\n",
      "60000/60000 [==============================] - 162s 3ms/step - loss: 0.0068 - acc: 0.9979 - val_loss: 0.0336 - val_acc: 0.9916\n",
      "Test loss: 0.033645702404253096\n",
      "Test accuracy: 0.9916\n"
     ]
    }
   ],
   "source": [
    "model = Sequential()\n",
    "model.add(Conv2D(32, kernel_size=(3, 3),\n",
    "                 activation='relu',\n",
    "                 input_shape=input_shape))\n",
    "model.add(Conv2D(64, (3, 3), activation='relu'))\n",
    "model.add(MaxPooling2D(pool_size=(2, 2)))\n",
    "model.add(Dropout(0.1))\n",
    "model.add(Flatten())\n",
    "model.add(Dense(128, activation='relu'))\n",
    "model.add(Dropout(0.2))\n",
    "model.add(Dense(num_cls, activation='softmax'))\n",
    "\n",
    "model.compile(loss=keras.losses.categorical_crossentropy,\n",
    "              optimizer=keras.optimizers.Adadelta(),\n",
    "              metrics=['accuracy'])\n",
    "\n",
    "hist = model.fit(x_train, y_train,\n",
    "          batch_size=batch_size,\n",
    "          epochs=epochs,\n",
    "          verbose=1,\n",
    "          validation_data=(x_test, y_test))\n",
    "score = model.evaluate(x_test, y_test, verbose=0)\n",
    "print('Test loss:', score[0])\n",
    "print('Test accuracy:', score[1])"
   ]
  },
  {
   "cell_type": "code",
   "execution_count": 7,
   "metadata": {
    "colab": {
     "base_uri": "https://localhost:8080/",
     "height": 397
    },
    "colab_type": "code",
    "id": "r2h9Qdk5Vz-9",
    "outputId": "2ebfaa70-119f-49b7-e2e8-d79c06ea2029"
   },
   "outputs": [
    {
     "name": "stdout",
     "output_type": "stream",
     "text": [
      "Test score: 0.033645702404253096\n",
      "Test accuracy: 0.9916\n"
     ]
    },
    {
     "data": {
      "image/png": "[encoded data removed]",
      "text/plain": [
       "<Figure size 576x396 with 1 Axes>"
      ]
     },
     "metadata": {
      "tags": []
     },
     "output_type": "display_data"
    }
   ],
   "source": [
    "score = model.evaluate(x_test, y_test, verbose=0)\n",
    "print('Test score:', score[0])\n",
    "print('Test accuracy:', score[1])\n",
    "\n",
    "fig,ax = plt.subplots(1,1)\n",
    "ax.set_xlabel('epoch') ; ax.set_ylabel('Categorical Crossentropy Loss')\n",
    "\n",
    "x = list(range(1,epochs+1))\n",
    "\n",
    "vy = hist.history['val_loss']\n",
    "ty = hist.history['loss']\n",
    "plt_dyn(x, vy, ty, ax)"
   ]
  },
  {
   "cell_type": "markdown",
   "metadata": {
    "colab_type": "text",
    "id": "1obWbOYXdYd0"
   },
   "source": [
    "## Model 2"
   ]
  },
  {
   "cell_type": "code",
   "execution_count": 0,
   "metadata": {
    "colab": {
     "base_uri": "https://localhost:8080/",
     "height": 503
    },
    "colab_type": "code",
    "id": "19k0h0j28r2P",
    "outputId": "5d6bacf4-b7fb-42bb-9c06-82d8eff80604"
   },
   "outputs": [
    {
     "name": "stdout",
     "output_type": "stream",
     "text": [
      "Train on 60000 samples, validate on 10000 samples\n",
      "Epoch 1/12\n",
      "60000/60000 [==============================] - 534s 9ms/step - loss: 0.3560 - acc: 0.8895 - val_loss: 0.0528 - val_acc: 0.9835\n",
      "Epoch 2/12\n",
      "60000/60000 [==============================] - 533s 9ms/step - loss: 0.1234 - acc: 0.9630 - val_loss: 0.0490 - val_acc: 0.9852\n",
      "Epoch 3/12\n",
      "60000/60000 [==============================] - 516s 9ms/step - loss: 0.0994 - acc: 0.9709 - val_loss: 0.0371 - val_acc: 0.9885\n",
      "Epoch 4/12\n",
      "60000/60000 [==============================] - 518s 9ms/step - loss: 0.0857 - acc: 0.9752 - val_loss: 0.0335 - val_acc: 0.9914\n",
      "Epoch 5/12\n",
      "60000/60000 [==============================] - 525s 9ms/step - loss: 0.0782 - acc: 0.9777 - val_loss: 0.0300 - val_acc: 0.9909\n",
      "Epoch 6/12\n",
      "60000/60000 [==============================] - 514s 9ms/step - loss: 0.0727 - acc: 0.9789 - val_loss: 0.0270 - val_acc: 0.9920\n",
      "Epoch 7/12\n",
      "60000/60000 [==============================] - 523s 9ms/step - loss: 0.0642 - acc: 0.9816 - val_loss: 0.0345 - val_acc: 0.9891\n",
      "Epoch 8/12\n",
      "60000/60000 [==============================] - 522s 9ms/step - loss: 0.0678 - acc: 0.9815 - val_loss: 0.0284 - val_acc: 0.9921\n",
      "Epoch 9/12\n",
      "60000/60000 [==============================] - 507s 8ms/step - loss: 0.0595 - acc: 0.9837 - val_loss: 0.0280 - val_acc: 0.9910\n",
      "Epoch 10/12\n",
      "60000/60000 [==============================] - 520s 9ms/step - loss: 0.0582 - acc: 0.9838 - val_loss: 0.0233 - val_acc: 0.9939\n",
      "Epoch 11/12\n",
      "60000/60000 [==============================] - 530s 9ms/step - loss: 0.0562 - acc: 0.9845 - val_loss: 0.0299 - val_acc: 0.9912\n",
      "Epoch 12/12\n",
      "60000/60000 [==============================] - 529s 9ms/step - loss: 0.0574 - acc: 0.9850 - val_loss: 0.0270 - val_acc: 0.9919\n",
      "Test loss: 0.026987017115121126\n",
      "Test accuracy: 0.9919\n"
     ]
    }
   ],
   "source": [
    "from keras.layers.normalization import BatchNormalization\n",
    "\n",
    "model = Sequential()\n",
    "model.add(Conv2D(64, kernel_size=(7, 7),\n",
    "                 activation='relu',\n",
    "                 input_shape=input_shape, padding='same'))\n",
    "model.add(Conv2D(32, (5, 5), activation='relu'))\n",
    "model.add(MaxPooling2D(pool_size=(2, 2)))\n",
    "model.add(Dropout(0.25))\n",
    "model.add(Conv2D(32, (3, 3), activation='relu'))\n",
    "model.add(MaxPooling2D(pool_size=(2, 2)))\n",
    "model.add(Dropout(0.50))\n",
    "model.add(Flatten())\n",
    "model.add(BatchNormalization())\n",
    "model.add(Dense(128, activation='relu'))\n",
    "model.add(Dropout(0.5))\n",
    "model.add(Dense(num_cls, activation='softmax'))\n",
    "\n",
    "model.compile(loss=keras.losses.categorical_crossentropy,\n",
    "              optimizer=keras.optimizers.Adadelta(),\n",
    "              metrics=['accuracy'])\n",
    "\n",
    "hist = model.fit(x_train, y_train,\n",
    "          batch_size=batch_size,\n",
    "          epochs=epochs,\n",
    "          verbose=1,\n",
    "          validation_data=(x_test, y_test))\n",
    "score = model.evaluate(x_test, y_test, verbose=0)\n",
    "print('Test loss:', score[0])\n",
    "print('Test accuracy:', score[1])"
   ]
  },
  {
   "cell_type": "code",
   "execution_count": 0,
   "metadata": {
    "colab": {
     "base_uri": "https://localhost:8080/",
     "height": 397
    },
    "colab_type": "code",
    "id": "PqdVAu74GZp1",
    "outputId": "3a8abbdd-99c9-4817-98b0-7800890ca68b"
   },
   "outputs": [
    {
     "name": "stdout",
     "output_type": "stream",
     "text": [
      "Test score: 0.026987017115121126\n",
      "Test accuracy: 0.9919\n"
     ]
    },
    {
     "data": {
      "image/png": "[encoded data removed]",
      "text/plain": [
       "<Figure size 576x396 with 1 Axes>"
      ]
     },
     "metadata": {
      "tags": []
     },
     "output_type": "display_data"
    }
   ],
   "source": [
    "score = model.evaluate(x_test, y_test, verbose=0)\n",
    "print('Test score:', score[0]) \n",
    "print('Test accuracy:', score[1])\n",
    "\n",
    "fig,ax = plt.subplots(1,1)\n",
    "ax.set_xlabel('epoch') ; ax.set_ylabel('Categorical Crossentropy Loss')\n",
    "\n",
    "x = list(range(1,epochs+1))\n",
    "\n",
    "vy = hist.history['val_loss']\n",
    "ty = hist.history['loss']\n",
    "plt_dyn(x, vy, ty, ax)"
   ]
  },
  {
   "cell_type": "markdown",
   "metadata": {
    "colab_type": "text",
    "id": "KTkmUgG_dbbP"
   },
   "source": [
    "## Model 3"
   ]
  },
  {
   "cell_type": "code",
   "execution_count": 0,
   "metadata": {
    "colab": {
     "base_uri": "https://localhost:8080/",
     "height": 665
    },
    "colab_type": "code",
    "id": "kYtAj0-8_TRJ",
    "outputId": "eaaf58f5-77f6-40a9-dd6a-f10fc6d17f32"
   },
   "outputs": [
    {
     "name": "stdout",
     "output_type": "stream",
     "text": [
      "WARNING:tensorflow:From /usr/local/lib/python3.6/dist-packages/tensorflow/python/framework/op_def_library.py:263: colocate_with (from tensorflow.python.framework.ops) is deprecated and will be removed in a future version.\n",
      "Instructions for updating:\n",
      "Colocations handled automatically by placer.\n",
      "WARNING:tensorflow:From /usr/local/lib/python3.6/dist-packages/keras/backend/tensorflow_backend.py:3445: calling dropout (from tensorflow.python.ops.nn_ops) with keep_prob is deprecated and will be removed in a future version.\n",
      "Instructions for updating:\n",
      "Please use `rate` instead of `keep_prob`. Rate should be set to `rate = 1 - keep_prob`.\n",
      "WARNING:tensorflow:From /usr/local/lib/python3.6/dist-packages/tensorflow/python/ops/math_ops.py:3066: to_int32 (from tensorflow.python.ops.math_ops) is deprecated and will be removed in a future version.\n",
      "Instructions for updating:\n",
      "Use tf.cast instead.\n",
      "Train on 60000 samples, validate on 10000 samples\n",
      "Epoch 1/12\n",
      "60000/60000 [==============================] - 3505s 58ms/step - loss: 0.8831 - acc: 0.7069 - val_loss: 0.1238 - val_acc: 0.9699\n",
      "Epoch 2/12\n",
      "60000/60000 [==============================] - 3545s 59ms/step - loss: 0.2763 - acc: 0.9201 - val_loss: 0.0577 - val_acc: 0.9848\n",
      "Epoch 3/12\n",
      "60000/60000 [==============================] - 3582s 60ms/step - loss: 0.2031 - acc: 0.9442 - val_loss: 0.0467 - val_acc: 0.9884\n",
      "Epoch 4/12\n",
      "60000/60000 [==============================] - 3586s 60ms/step - loss: 0.1714 - acc: 0.9532 - val_loss: 0.0460 - val_acc: 0.9882\n",
      "Epoch 5/12\n",
      "60000/60000 [==============================] - 3587s 60ms/step - loss: 0.1448 - acc: 0.9597 - val_loss: 0.0359 - val_acc: 0.9916\n",
      "Epoch 6/12\n",
      "60000/60000 [==============================] - 3564s 59ms/step - loss: 0.1377 - acc: 0.9629 - val_loss: 0.0322 - val_acc: 0.9926\n",
      "Epoch 7/12\n",
      "60000/60000 [==============================] - 3639s 61ms/step - loss: 0.1264 - acc: 0.9666 - val_loss: 0.0332 - val_acc: 0.9912\n",
      "Epoch 8/12\n",
      "60000/60000 [==============================] - 3671s 61ms/step - loss: 0.1194 - acc: 0.9674 - val_loss: 0.0406 - val_acc: 0.9896\n",
      "Epoch 9/12\n",
      "60000/60000 [==============================] - 3618s 60ms/step - loss: 0.1128 - acc: 0.9695 - val_loss: 0.0270 - val_acc: 0.9935\n",
      "Epoch 10/12\n",
      "60000/60000 [==============================] - 3633s 61ms/step - loss: 0.1047 - acc: 0.9722 - val_loss: 0.0324 - val_acc: 0.9924\n",
      "Epoch 11/12\n",
      "60000/60000 [==============================] - 3619s 60ms/step - loss: 0.1029 - acc: 0.9725 - val_loss: 0.0369 - val_acc: 0.9925\n",
      "Epoch 12/12\n",
      "60000/60000 [==============================] - 3606s 60ms/step - loss: 0.1021 - acc: 0.9729 - val_loss: 0.0339 - val_acc: 0.9928\n",
      "Test loss: 0.03392359182187356\n",
      "Test accuracy: 0.9928\n"
     ]
    }
   ],
   "source": [
    "from keras.layers.normalization import BatchNormalization\n",
    "\n",
    "model = Sequential()\n",
    "model.add(Conv2D(128, kernel_size=(11, 11),\n",
    "                 activation='relu',\n",
    "                 input_shape=input_shape, padding='same'))\n",
    "model.add(Conv2D(64, (7, 7), activation='relu', padding='same'))\n",
    "model.add(MaxPooling2D(pool_size=(4, 4)))\n",
    "model.add(Dropout(0.25))\n",
    "model.add(Conv2D(32, (5, 5), activation='relu'))\n",
    "model.add(Dropout(0.50))\n",
    "model.add(BatchNormalization())\n",
    "model.add(Conv2D(32, (3, 3), activation='relu'))\n",
    "model.add(MaxPooling2D(pool_size=(1, 1)))\n",
    "model.add(Dropout(0.50))\n",
    "model.add(Flatten())\n",
    "model.add(BatchNormalization())\n",
    "model.add(Dense(128, activation='relu'))\n",
    "model.add(Dropout(0.5))\n",
    "model.add(Dense(num_cls, activation='softmax'))\n",
    "\n",
    "model.compile(loss=keras.losses.categorical_crossentropy,\n",
    "              optimizer=keras.optimizers.Adadelta(),\n",
    "              metrics=['accuracy'])\n",
    "\n",
    "hist = model.fit(x_train, y_train,\n",
    "          batch_size=batch_size,\n",
    "          epochs=epochs,\n",
    "          verbose=1,\n",
    "          validation_data=(x_test, y_test))\n",
    "score = model.evaluate(x_test, y_test, verbose=0)\n",
    "print('Test loss:', score[0])\n",
    "print('Test accuracy:', score[1])"
   ]
  },
  {
   "cell_type": "code",
   "execution_count": 0,
   "metadata": {
    "colab": {
     "base_uri": "https://localhost:8080/",
     "height": 53
    },
    "colab_type": "code",
    "id": "--xhDz5fGmaC",
    "outputId": "4739fdd6-f1db-4dcc-ad58-74a585925629"
   },
   "outputs": [
    {
     "name": "stdout",
     "output_type": "stream",
     "text": [
      "Test score: 0.03392359182187356\n",
      "Test accuracy: 0.9928\n"
     ]
    }
   ],
   "source": [
    "score = model.evaluate(x_test, y_test, verbose=0)\n",
    "print('Test score:', score[0]) \n",
    "print('Test accuracy:', score[1])\n",
    "\n",
    "fig,ax = plt.subplots(1,1)\n",
    "ax.set_xlabel('epoch') ; ax.set_ylabel('Categorical Crossentropy Loss')\n",
    "\n",
    "x = list(range(1,epochs+1))\n",
    "\n",
    "vy = hist.history['val_loss']\n",
    "ty = hist.history['loss']\n",
    "plt_dyn(x, vy, ty, ax)"
   ]
  },
  {
   "cell_type": "markdown",
   "metadata": {
    "colab_type": "text",
    "id": "REYQ24gQdd0-"
   },
   "source": [
    "## Model 4"
   ]
  },
  {
   "cell_type": "code",
   "execution_count": 0,
   "metadata": {
    "colab": {
     "base_uri": "https://localhost:8080/",
     "height": 665
    },
    "colab_type": "code",
    "id": "riRBZaW9_26H",
    "outputId": "6616da7f-9d4b-435f-81f9-41ca73b71f33"
   },
   "outputs": [
    {
     "name": "stdout",
     "output_type": "stream",
     "text": [
      "WARNING:tensorflow:From /usr/local/lib/python3.6/dist-packages/tensorflow/python/framework/op_def_library.py:263: colocate_with (from tensorflow.python.framework.ops) is deprecated and will be removed in a future version.\n",
      "Instructions for updating:\n",
      "Colocations handled automatically by placer.\n",
      "WARNING:tensorflow:From /usr/local/lib/python3.6/dist-packages/keras/backend/tensorflow_backend.py:3445: calling dropout (from tensorflow.python.ops.nn_ops) with keep_prob is deprecated and will be removed in a future version.\n",
      "Instructions for updating:\n",
      "Please use `rate` instead of `keep_prob`. Rate should be set to `rate = 1 - keep_prob`.\n",
      "WARNING:tensorflow:From /usr/local/lib/python3.6/dist-packages/tensorflow/python/ops/math_ops.py:3066: to_int32 (from tensorflow.python.ops.math_ops) is deprecated and will be removed in a future version.\n",
      "Instructions for updating:\n",
      "Use tf.cast instead.\n",
      "Train on 60000 samples, validate on 10000 samples\n",
      "Epoch 1/12\n",
      "60000/60000 [==============================] - 1303s 22ms/step - loss: 2.2456 - acc: 0.1803 - val_loss: 1.9848 - val_acc: 0.1746\n",
      "Epoch 2/12\n",
      "60000/60000 [==============================] - 1313s 22ms/step - loss: 1.3956 - acc: 0.4400 - val_loss: 0.7813 - val_acc: 0.6567\n",
      "Epoch 3/12\n",
      "60000/60000 [==============================] - 1300s 22ms/step - loss: 1.0280 - acc: 0.5800 - val_loss: 0.6283 - val_acc: 0.7354\n",
      "Epoch 4/12\n",
      "60000/60000 [==============================] - 1311s 22ms/step - loss: 0.8757 - acc: 0.6474 - val_loss: 0.5260 - val_acc: 0.7438\n",
      "Epoch 5/12\n",
      "60000/60000 [==============================] - 1314s 22ms/step - loss: 0.7602 - acc: 0.6993 - val_loss: 0.3511 - val_acc: 0.8686\n",
      "Epoch 6/12\n",
      "60000/60000 [==============================] - 1279s 21ms/step - loss: 0.6591 - acc: 0.7491 - val_loss: 0.3389 - val_acc: 0.8578\n",
      "Epoch 7/12\n",
      "60000/60000 [==============================] - 1277s 21ms/step - loss: 0.5877 - acc: 0.7763 - val_loss: 0.2594 - val_acc: 0.8767\n",
      "Epoch 8/12\n",
      "60000/60000 [==============================] - 1285s 21ms/step - loss: 0.5284 - acc: 0.7976 - val_loss: 0.2218 - val_acc: 0.8870\n",
      "Epoch 9/12\n",
      "60000/60000 [==============================] - 1302s 22ms/step - loss: 0.5071 - acc: 0.8069 - val_loss: 0.2273 - val_acc: 0.8835\n",
      "Epoch 10/12\n",
      "60000/60000 [==============================] - 1293s 22ms/step - loss: 0.4722 - acc: 0.8181 - val_loss: 0.2013 - val_acc: 0.8902\n",
      "Epoch 11/12\n",
      "60000/60000 [==============================] - 1286s 21ms/step - loss: 0.4576 - acc: 0.8219 - val_loss: 0.2037 - val_acc: 0.8893\n",
      "Epoch 12/12\n",
      "60000/60000 [==============================] - 1285s 21ms/step - loss: 0.4431 - acc: 0.8277 - val_loss: 0.1923 - val_acc: 0.8916\n",
      "Test loss: 0.19232530520558358\n",
      "Test accuracy: 0.8916\n"
     ]
    }
   ],
   "source": [
    "from keras.layers.normalization import BatchNormalization\n",
    "\n",
    "model = Sequential()\n",
    "model.add(Conv2D(64, kernel_size=(11, 11),\n",
    "                 activation='relu',\n",
    "                 input_shape=input_shape, padding='same'))\n",
    "model.add(Conv2D(32, (7, 7), activation='relu', padding='same'))\n",
    "model.add(MaxPooling2D(pool_size=(4, 4)))\n",
    "model.add(Dropout(0.25))\n",
    "model.add(Conv2D(32, (5, 5), activation='relu', padding='same'))\n",
    "model.add(MaxPooling2D(pool_size=(2, 2)))\n",
    "model.add(Dropout(0.50))\n",
    "model.add(BatchNormalization())\n",
    "model.add(Conv2D(32, (3, 3), activation='relu'))\n",
    "model.add(MaxPooling2D(pool_size=(1, 1)))\n",
    "model.add(Dropout(0.50))\n",
    "model.add(Flatten())\n",
    "model.add(BatchNormalization())\n",
    "model.add(Dense(128, activation='relu'))\n",
    "model.add(Dropout(0.5))\n",
    "model.add(BatchNormalization())\n",
    "model.add(Dense(64, activation='relu'))\n",
    "model.add(Dropout(0.5))\n",
    "model.add(BatchNormalization())\n",
    "model.add(Dense(32, activation='relu'))\n",
    "model.add(Dropout(0.5))\n",
    "model.add(Dense(num_cls, activation='softmax'))\n",
    "\n",
    "model.compile(loss=keras.losses.categorical_crossentropy,\n",
    "              optimizer=keras.optimizers.Adadelta(),\n",
    "              metrics=['accuracy'])\n",
    "\n",
    "hist = model.fit(x_train, y_train,\n",
    "          batch_size=batch_size,\n",
    "          epochs=epochs,\n",
    "          verbose=1,\n",
    "          validation_data=(x_test, y_test))\n",
    "score = model.evaluate(x_test, y_test, verbose=0)\n",
    "print('Test loss:', score[0])\n",
    "print('Test accuracy:', score[1])"
   ]
  },
  {
   "cell_type": "code",
   "execution_count": 0,
   "metadata": {
    "colab": {
     "base_uri": "https://localhost:8080/",
     "height": 397
    },
    "colab_type": "code",
    "id": "7AozbB_pGte8",
    "outputId": "8de1ed0f-9888-46eb-aa40-aa2872489298"
   },
   "outputs": [
    {
     "name": "stdout",
     "output_type": "stream",
     "text": [
      "Test score: 0.19232530520558358\n",
      "Test accuracy: 0.8916\n"
     ]
    },
    {
     "data": {
      "image/png": "[encoded data removed]",
      "text/plain": [
       "<Figure size 576x396 with 1 Axes>"
      ]
     },
     "metadata": {
      "tags": []
     },
     "output_type": "display_data"
    }
   ],
   "source": [
    "score = model.evaluate(x_test, y_test, verbose=0)\n",
    "print('Test score:', score[0]) \n",
    "print('Test accuracy:', score[1])\n",
    "\n",
    "fig,ax = plt.subplots(1,1)\n",
    "ax.set_xlabel('epoch') ; ax.set_ylabel('Categorical Crossentropy Loss')\n",
    "\n",
    "x = list(range(1,epochs+1))\n",
    "\n",
    "vy = hist.history['val_loss']\n",
    "ty = hist.history['loss']\n",
    "plt_dyn(x, vy, ty, ax)"
   ]
  },
  {
   "cell_type": "markdown",
   "metadata": {
    "colab_type": "text",
    "id": "MEcwFRGAdgV-"
   },
   "source": [
    "## Procedure\n",
    "\n",
    " - I started by building shallow CNN models. \n",
    " - I plotted the entropy loss vs epochs to keep track of the progress.\n",
    " - Next I varied the drop out rates, keeping everything else the same, to see how it impacted the performance.\n",
    " - I increased the number of layers and complexity with each successive model, with the last model being the deepest one.\n",
    "\n",
    "# CONCLUSION\n",
    "\n",
    "| Model | Test Accuracy |\n",
    "| --- | --- |\n",
    "| Model 1 | 0.9919 |\n",
    "| Model 1.1(increased drop-out rates) | 0.9904 |\n",
    "| Model 1.2(reduced drop-out rates) | 0.9916 |\n",
    "| Model 2 | 0.9919 |\n",
    "| Model 3 | 0.9928 |\n",
    "| Model 4 | 0.8916 |\n",
    "\n",
    "\n",
    " - Best accuracy was acheived in Model 3\n",
    " - We can also conclude that adding more layers in the CNN network does not necessarily guarantee better performance.\n",
    " - After significantly increasing the drop outrate from Model 1 to Model 1.1, the performance slightly dropped.\n",
    " - And by significantly reducing the drop out rate in Model 1.2, the performance remained more or less the same.\n",
    " - There is a significant drop in performance from Model 3 to Model 4. Perhaps this is due to increased number of additional layers which probably negatively impacted the model performance."
   ]
  }
 ],
 "metadata": {
  "colab": {
   "collapsed_sections": [],
   "name": "CNN_MNIST.ipynb",
   "provenance": [],
   "version": "0.3.2"
  },
  "kernelspec": {
   "display_name": "Python 3",
   "language": "python",
   "name": "python3"
  },
  "language_info": {
   "codemirror_mode": {
    "name": "ipython",
    "version": 3
   },
   "file_extension": ".py",
   "mimetype": "text/x-python",
   "name": "python",
   "nbconvert_exporter": "python",
   "pygments_lexer": "ipython3",
   "version": "3.6.5"
  }
 },
 "nbformat": 4,
 "nbformat_minor": 1
}
