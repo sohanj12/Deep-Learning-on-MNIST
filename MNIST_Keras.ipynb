{
 "cells": [
  {
   "cell_type": "code",
   "execution_count": 0,
   "metadata": {
    "colab": {},
    "colab_type": "code",
    "id": "gwCQnvWnyUto"
   },
   "outputs": [],
   "source": [
    "from keras.utils import np_utils\n",
    "from keras.datasets import mnist\n",
    "import matplotlib.pyplot as plt\n",
    "import seaborn as sns\n",
    "import numpy as np\n",
    "from keras.initializers import RandomNormal\n",
    "from keras.models import Sequential\n",
    "from keras.layers import Dense, Activation\n",
    "\n"
   ]
  },
  {
   "cell_type": "code",
   "execution_count": 0,
   "metadata": {
    "colab": {},
    "colab_type": "code",
    "id": "LBf13KgS19Mg"
   },
   "outputs": [],
   "source": [
    "def plt_dyn(x, yval, ytrain, ax, colors=['b']):\n",
    "  ax.plot(x, yval, 'b', label='Validation loss')\n",
    "  ax.plot(x, ytrain, 'r', label='Training loss')\n",
    "  plt.legend()\n",
    "  plt.grid()\n",
    "  fig.canvas.draw()"
   ]
  },
  {
   "cell_type": "code",
   "execution_count": 0,
   "metadata": {
    "colab": {},
    "colab_type": "code",
    "id": "1xd5rj2A2XY9"
   },
   "outputs": [],
   "source": [
    "(x_train, y_train), (x_test, y_test) = mnist.load_data()\n",
    "\n",
    "x_train = x_train.reshape(x_train.shape[0], x_train.shape[1]*x_train.shape[2]) \n",
    "x_test = x_test.reshape(x_test.shape[0], x_test.shape[1]*x_test.shape[2])\n",
    "\n",
    "x_train = x_train/255\n",
    "x_test = x_test/255\n",
    "\n",
    "y_train = np_utils.to_categorical(y_train)\n",
    "y_test = np_utils.to_categorical(y_test)"
   ]
  },
  {
   "cell_type": "code",
   "execution_count": 0,
   "metadata": {
    "colab": {},
    "colab_type": "code",
    "id": "_oPO1V6ZfY-g"
   },
   "outputs": [],
   "source": [
    "op_dim = 10\n",
    "ip_dim = x_train.shape[1]\n",
    "batch_size = 128\n",
    "epoch = 20\n",
    "\n"
   ]
  },
  {
   "cell_type": "markdown",
   "metadata": {
    "colab_type": "text",
    "id": "pJ2H3xMgA6Zt"
   },
   "source": [
    "## Model 1"
   ]
  },
  {
   "cell_type": "code",
   "execution_count": 12,
   "metadata": {
    "colab": {
     "base_uri": "https://localhost:8080/",
     "height": 739
    },
    "colab_type": "code",
    "id": "f71jzrZofvrD",
    "outputId": "7bddcc9c-d4c3-4609-958b-9fe21b7d54c5"
   },
   "outputs": [
    {
     "name": "stderr",
     "output_type": "stream",
     "text": [
      "/usr/local/lib/python3.6/dist-packages/ipykernel_launcher.py:2: UserWarning: Update your `Dense` call to the Keras 2 API: `Dense(input_dim=784, activation=\"softmax\", units=10)`\n",
      "  \n"
     ]
    },
    {
     "name": "stdout",
     "output_type": "stream",
     "text": [
      "Train on 60000 samples, validate on 10000 samples\n",
      "Epoch 1/20\n",
      "60000/60000 [==============================] - 2s 29us/step - loss: 1.2718 - acc: 0.7024 - val_loss: 0.8133 - val_acc: 0.8267\n",
      "Epoch 2/20\n",
      "60000/60000 [==============================] - 1s 19us/step - loss: 0.7166 - acc: 0.8396 - val_loss: 0.6094 - val_acc: 0.8582\n",
      "Epoch 3/20\n",
      "60000/60000 [==============================] - 1s 17us/step - loss: 0.5876 - acc: 0.8591 - val_loss: 0.5273 - val_acc: 0.8735\n",
      "Epoch 4/20\n",
      "60000/60000 [==============================] - 1s 18us/step - loss: 0.5257 - acc: 0.8682 - val_loss: 0.4813 - val_acc: 0.8803\n",
      "Epoch 5/20\n",
      "60000/60000 [==============================] - 1s 20us/step - loss: 0.4880 - acc: 0.8741 - val_loss: 0.4516 - val_acc: 0.8850\n",
      "Epoch 6/20\n",
      "60000/60000 [==============================] - 1s 19us/step - loss: 0.4621 - acc: 0.8790 - val_loss: 0.4305 - val_acc: 0.8884\n",
      "Epoch 7/20\n",
      "60000/60000 [==============================] - 1s 19us/step - loss: 0.4429 - acc: 0.8824 - val_loss: 0.4136 - val_acc: 0.8923\n",
      "Epoch 8/20\n",
      "60000/60000 [==============================] - 1s 17us/step - loss: 0.4280 - acc: 0.8857 - val_loss: 0.4007 - val_acc: 0.8956\n",
      "Epoch 9/20\n",
      "60000/60000 [==============================] - 1s 17us/step - loss: 0.4159 - acc: 0.8885 - val_loss: 0.3905 - val_acc: 0.8978\n",
      "Epoch 10/20\n",
      "60000/60000 [==============================] - 1s 18us/step - loss: 0.4059 - acc: 0.8906 - val_loss: 0.3820 - val_acc: 0.8990\n",
      "Epoch 11/20\n",
      "60000/60000 [==============================] - 1s 18us/step - loss: 0.3975 - acc: 0.8922 - val_loss: 0.3743 - val_acc: 0.9015\n",
      "Epoch 12/20\n",
      "60000/60000 [==============================] - 1s 19us/step - loss: 0.3902 - acc: 0.8935 - val_loss: 0.3677 - val_acc: 0.9033\n",
      "Epoch 13/20\n",
      "60000/60000 [==============================] - 1s 19us/step - loss: 0.3838 - acc: 0.8952 - val_loss: 0.3621 - val_acc: 0.9042\n",
      "Epoch 14/20\n",
      "60000/60000 [==============================] - 1s 19us/step - loss: 0.3782 - acc: 0.8967 - val_loss: 0.3575 - val_acc: 0.9049\n",
      "Epoch 15/20\n",
      "60000/60000 [==============================] - 1s 17us/step - loss: 0.3732 - acc: 0.8982 - val_loss: 0.3526 - val_acc: 0.9055\n",
      "Epoch 16/20\n",
      "60000/60000 [==============================] - 1s 17us/step - loss: 0.3686 - acc: 0.8987 - val_loss: 0.3488 - val_acc: 0.9064\n",
      "Epoch 17/20\n",
      "60000/60000 [==============================] - 1s 18us/step - loss: 0.3645 - acc: 0.8993 - val_loss: 0.3451 - val_acc: 0.9066\n",
      "Epoch 18/20\n",
      "60000/60000 [==============================] - 1s 17us/step - loss: 0.3608 - acc: 0.9006 - val_loss: 0.3420 - val_acc: 0.9080\n",
      "Epoch 19/20\n",
      "60000/60000 [==============================] - 1s 17us/step - loss: 0.3574 - acc: 0.9010 - val_loss: 0.3389 - val_acc: 0.9084\n",
      "Epoch 20/20\n",
      "60000/60000 [==============================] - 1s 18us/step - loss: 0.3542 - acc: 0.9019 - val_loss: 0.3360 - val_acc: 0.9097\n"
     ]
    }
   ],
   "source": [
    "model = Sequential()\n",
    "model.add(Dense(output_dim=op_dim, input_dim = ip_dim, activation='softmax'))\n",
    "\n",
    "model.compile(optimizer='sgd', loss='categorical_crossentropy', metrics=['accuracy'])\n",
    "hist = model.fit(x_train, y_train, batch_size=batch_size, epochs=epoch, verbose=1, validation_data=(x_test, y_test))\n",
    "              "
   ]
  },
  {
   "cell_type": "code",
   "execution_count": 16,
   "metadata": {
    "colab": {
     "base_uri": "https://localhost:8080/",
     "height": 394
    },
    "colab_type": "code",
    "id": "FLRxk1NIhe07",
    "outputId": "30bbc99c-ef51-4e14-bfc7-9b7cb5a07faf"
   },
   "outputs": [
    {
     "name": "stdout",
     "output_type": "stream",
     "text": [
      "Test score: 0.33596964040398597\n",
      "Test accuracy: 0.9097\n"
     ]
    },
    {
     "data": {
      "image/png": "[encoded data removed]",
      "text/plain": [
       "<matplotlib.figure.Figure at 0x7f64e85756d8>"
      ]
     },
     "metadata": {
      "tags": []
     },
     "output_type": "display_data"
    }
   ],
   "source": [
    "score = model.evaluate(x_test, y_test, verbose=0)\n",
    "print('Test score:', score[0]) \n",
    "print('Test accuracy:', score[1])\n",
    "\n",
    "fig,ax = plt.subplots(1,1)\n",
    "ax.set_xlabel('epoch') ; ax.set_ylabel('Categorical Crossentropy Loss')\n",
    "\n",
    "x = list(range(1,epoch+1))\n",
    "\n",
    "vy = hist.history['val_loss']\n",
    "ty = hist.history['loss']\n",
    "plt_dyn(x, vy, ty, ax)"
   ]
  },
  {
   "cell_type": "markdown",
   "metadata": {
    "colab_type": "text",
    "id": "XnbVafTYA31Z"
   },
   "source": [
    "## Model 2"
   ]
  },
  {
   "cell_type": "code",
   "execution_count": 34,
   "metadata": {
    "colab": {
     "base_uri": "https://localhost:8080/",
     "height": 941
    },
    "colab_type": "code",
    "id": "xsPfONwSiWgA",
    "outputId": "6384edb0-69a7-45b0-f2fe-e51ff2e13375"
   },
   "outputs": [
    {
     "name": "stdout",
     "output_type": "stream",
     "text": [
      "_________________________________________________________________\n",
      "Layer (type)                 Output Shape              Param #   \n",
      "=================================================================\n",
      "dense_31 (Dense)             (None, 512)               401920    \n",
      "_________________________________________________________________\n",
      "dense_32 (Dense)             (None, 128)               65664     \n",
      "_________________________________________________________________\n",
      "dense_33 (Dense)             (None, 10)                1290      \n",
      "=================================================================\n",
      "Total params: 468,874\n",
      "Trainable params: 468,874\n",
      "Non-trainable params: 0\n",
      "_________________________________________________________________\n",
      "None\n",
      "Train on 60000 samples, validate on 10000 samples\n",
      "Epoch 1/20\n",
      "60000/60000 [==============================] - 7s 119us/step - loss: 0.2334 - acc: 0.9320 - val_loss: 0.1126 - val_acc: 0.9647\n",
      "Epoch 2/20\n",
      "60000/60000 [==============================] - 6s 104us/step - loss: 0.0847 - acc: 0.9744 - val_loss: 0.0859 - val_acc: 0.9727\n",
      "Epoch 3/20\n",
      "60000/60000 [==============================] - 6s 104us/step - loss: 0.0533 - acc: 0.9837 - val_loss: 0.0683 - val_acc: 0.9788\n",
      "Epoch 4/20\n",
      "60000/60000 [==============================] - 6s 103us/step - loss: 0.0363 - acc: 0.9890 - val_loss: 0.0627 - val_acc: 0.9810\n",
      "Epoch 5/20\n",
      "60000/60000 [==============================] - 6s 104us/step - loss: 0.0266 - acc: 0.9914 - val_loss: 0.0668 - val_acc: 0.9793\n",
      "Epoch 6/20\n",
      "60000/60000 [==============================] - 6s 104us/step - loss: 0.0202 - acc: 0.9936 - val_loss: 0.0748 - val_acc: 0.9785\n",
      "Epoch 7/20\n",
      "60000/60000 [==============================] - 6s 103us/step - loss: 0.0157 - acc: 0.9951 - val_loss: 0.0677 - val_acc: 0.9816\n",
      "Epoch 8/20\n",
      "60000/60000 [==============================] - 6s 104us/step - loss: 0.0144 - acc: 0.9955 - val_loss: 0.0694 - val_acc: 0.9811\n",
      "Epoch 9/20\n",
      "60000/60000 [==============================] - 6s 105us/step - loss: 0.0157 - acc: 0.9950 - val_loss: 0.0746 - val_acc: 0.9798\n",
      "Epoch 10/20\n",
      "60000/60000 [==============================] - 6s 102us/step - loss: 0.0121 - acc: 0.9960 - val_loss: 0.0848 - val_acc: 0.9783\n",
      "Epoch 11/20\n",
      "60000/60000 [==============================] - 6s 101us/step - loss: 0.0108 - acc: 0.9964 - val_loss: 0.0824 - val_acc: 0.9804\n",
      "Epoch 12/20\n",
      "60000/60000 [==============================] - 6s 103us/step - loss: 0.0100 - acc: 0.9968 - val_loss: 0.0841 - val_acc: 0.9801\n",
      "Epoch 13/20\n",
      "60000/60000 [==============================] - 6s 103us/step - loss: 0.0076 - acc: 0.9978 - val_loss: 0.0771 - val_acc: 0.9822\n",
      "Epoch 14/20\n",
      "60000/60000 [==============================] - 6s 104us/step - loss: 0.0085 - acc: 0.9974 - val_loss: 0.0803 - val_acc: 0.9811\n",
      "Epoch 15/20\n",
      "60000/60000 [==============================] - 7s 109us/step - loss: 0.0084 - acc: 0.9971 - val_loss: 0.0815 - val_acc: 0.9826\n",
      "Epoch 16/20\n",
      "60000/60000 [==============================] - 7s 114us/step - loss: 0.0087 - acc: 0.9972 - val_loss: 0.0860 - val_acc: 0.9826\n",
      "Epoch 17/20\n",
      "60000/60000 [==============================] - 6s 106us/step - loss: 0.0069 - acc: 0.9977 - val_loss: 0.1155 - val_acc: 0.9773\n",
      "Epoch 18/20\n",
      "60000/60000 [==============================] - 6s 106us/step - loss: 0.0070 - acc: 0.9980 - val_loss: 0.0894 - val_acc: 0.9814\n",
      "Epoch 19/20\n",
      "60000/60000 [==============================] - 6s 105us/step - loss: 0.0066 - acc: 0.9978 - val_loss: 0.0807 - val_acc: 0.9834\n",
      "Epoch 20/20\n",
      "60000/60000 [==============================] - 6s 103us/step - loss: 0.0076 - acc: 0.9975 - val_loss: 0.1092 - val_acc: 0.9780\n"
     ]
    }
   ],
   "source": [
    "model_relu = Sequential()\n",
    "model_relu.add(Dense(512, activation='relu', input_shape=(ip_dim,), kernel_initializer='he_normal'))\n",
    "model_relu.add(Dense(128, activation='relu', kernel_initializer='he_normal'))\n",
    "model_relu.add(Dense(op_dim, activation='softmax'))\n",
    "\n",
    "print(model_relu.summary())\n",
    "\n",
    "model_relu.compile(optimizer='adam', loss='categorical_crossentropy', metrics=['accuracy'])\n",
    "hist = model_relu.fit(x_train, y_train, batch_size=batch_size, epochs=epoch, verbose=1, validation_data=(x_test, y_test))"
   ]
  },
  {
   "cell_type": "code",
   "execution_count": 35,
   "metadata": {
    "colab": {
     "base_uri": "https://localhost:8080/",
     "height": 394
    },
    "colab_type": "code",
    "id": "ICL0_TqAk7k6",
    "outputId": "1b8b37e6-cb06-470c-b92d-c73e2bb59f50"
   },
   "outputs": [
    {
     "name": "stdout",
     "output_type": "stream",
     "text": [
      "Test score: 0.1092325578252734\n",
      "Test accuracy: 0.978\n"
     ]
    },
    {
     "data": {
      "image/png": "[encoded data removed]",
      "text/plain": [
       "<matplotlib.figure.Figure at 0x7f64e6c3f320>"
      ]
     },
     "metadata": {
      "tags": []
     },
     "output_type": "display_data"
    }
   ],
   "source": [
    "score = model_relu.evaluate(x_test, y_test, verbose=0)\n",
    "print('Test score:', score[0]) \n",
    "print('Test accuracy:', score[1])\n",
    "\n",
    "fig,ax = plt.subplots(1,1)\n",
    "ax.set_xlabel('epoch') ; ax.set_ylabel('Categorical Crossentropy Loss')\n",
    "\n",
    "x = list(range(1,epoch+1))\n",
    "\n",
    "vy = hist.history['val_loss']\n",
    "ty = hist.history['loss']\n",
    "plt_dyn(x, vy, ty, ax)"
   ]
  },
  {
   "cell_type": "markdown",
   "metadata": {
    "colab_type": "text",
    "id": "CCLewya1A07U"
   },
   "source": [
    "## Model 3"
   ]
  },
  {
   "cell_type": "code",
   "execution_count": 27,
   "metadata": {
    "colab": {
     "base_uri": "https://localhost:8080/",
     "height": 1142
    },
    "colab_type": "code",
    "id": "s8Mpc72vl5os",
    "outputId": "caae0e06-244c-478c-83ef-f96a6790b56c"
   },
   "outputs": [
    {
     "name": "stdout",
     "output_type": "stream",
     "text": [
      "_________________________________________________________________\n",
      "Layer (type)                 Output Shape              Param #   \n",
      "=================================================================\n",
      "dense_17 (Dense)             (None, 1024)              803840    \n",
      "_________________________________________________________________\n",
      "dropout_3 (Dropout)          (None, 1024)              0         \n",
      "_________________________________________________________________\n",
      "dense_18 (Dense)             (None, 512)               524800    \n",
      "_________________________________________________________________\n",
      "dropout_4 (Dropout)          (None, 512)               0         \n",
      "_________________________________________________________________\n",
      "batch_normalization_1 (Batch (None, 512)               2048      \n",
      "_________________________________________________________________\n",
      "dense_19 (Dense)             (None, 128)               65664     \n",
      "_________________________________________________________________\n",
      "dropout_5 (Dropout)          (None, 128)               0         \n",
      "_________________________________________________________________\n",
      "batch_normalization_2 (Batch (None, 128)               512       \n",
      "_________________________________________________________________\n",
      "dense_20 (Dense)             (None, 10)                1290      \n",
      "=================================================================\n",
      "Total params: 1,398,154\n",
      "Trainable params: 1,396,874\n",
      "Non-trainable params: 1,280\n",
      "_________________________________________________________________\n",
      "None\n",
      "Train on 60000 samples, validate on 10000 samples\n",
      "Epoch 1/20\n",
      "60000/60000 [==============================] - 22s 363us/step - loss: 0.5193 - acc: 0.8430 - val_loss: 0.1391 - val_acc: 0.9567\n",
      "Epoch 2/20\n",
      "60000/60000 [==============================] - 21s 349us/step - loss: 0.2081 - acc: 0.9401 - val_loss: 0.1010 - val_acc: 0.9678\n",
      "Epoch 3/20\n",
      "60000/60000 [==============================] - 21s 346us/step - loss: 0.1565 - acc: 0.9545 - val_loss: 0.0892 - val_acc: 0.9732\n",
      "Epoch 4/20\n",
      "60000/60000 [==============================] - 21s 346us/step - loss: 0.1287 - acc: 0.9630 - val_loss: 0.0837 - val_acc: 0.9747\n",
      "Epoch 5/20\n",
      "60000/60000 [==============================] - 21s 347us/step - loss: 0.1163 - acc: 0.9669 - val_loss: 0.0660 - val_acc: 0.9808\n",
      "Epoch 6/20\n",
      "60000/60000 [==============================] - 21s 358us/step - loss: 0.1044 - acc: 0.9701 - val_loss: 0.0690 - val_acc: 0.9794\n",
      "Epoch 7/20\n",
      "60000/60000 [==============================] - 21s 346us/step - loss: 0.0905 - acc: 0.9738 - val_loss: 0.0637 - val_acc: 0.9820\n",
      "Epoch 8/20\n",
      "60000/60000 [==============================] - 21s 348us/step - loss: 0.0849 - acc: 0.9749 - val_loss: 0.0655 - val_acc: 0.9820\n",
      "Epoch 9/20\n",
      "60000/60000 [==============================] - 21s 348us/step - loss: 0.0778 - acc: 0.9769 - val_loss: 0.0604 - val_acc: 0.9823\n",
      "Epoch 10/20\n",
      "60000/60000 [==============================] - 21s 350us/step - loss: 0.0736 - acc: 0.9786 - val_loss: 0.0600 - val_acc: 0.9822\n",
      "Epoch 11/20\n",
      "60000/60000 [==============================] - 21s 354us/step - loss: 0.0682 - acc: 0.9802 - val_loss: 0.0577 - val_acc: 0.9833\n",
      "Epoch 12/20\n",
      "60000/60000 [==============================] - 21s 346us/step - loss: 0.0613 - acc: 0.9809 - val_loss: 0.0679 - val_acc: 0.9816\n",
      "Epoch 13/20\n",
      "60000/60000 [==============================] - 21s 352us/step - loss: 0.0596 - acc: 0.9820 - val_loss: 0.0524 - val_acc: 0.9852\n",
      "Epoch 14/20\n",
      "60000/60000 [==============================] - 21s 354us/step - loss: 0.0571 - acc: 0.9820 - val_loss: 0.0537 - val_acc: 0.9836\n",
      "Epoch 15/20\n",
      "60000/60000 [==============================] - 21s 350us/step - loss: 0.0557 - acc: 0.9837 - val_loss: 0.0557 - val_acc: 0.9838\n",
      "Epoch 16/20\n",
      "60000/60000 [==============================] - 21s 345us/step - loss: 0.0490 - acc: 0.9847 - val_loss: 0.0545 - val_acc: 0.9841\n",
      "Epoch 17/20\n",
      "60000/60000 [==============================] - 21s 345us/step - loss: 0.0480 - acc: 0.9855 - val_loss: 0.0544 - val_acc: 0.9852\n",
      "Epoch 18/20\n",
      "60000/60000 [==============================] - 21s 346us/step - loss: 0.0451 - acc: 0.9866 - val_loss: 0.0540 - val_acc: 0.9860\n",
      "Epoch 19/20\n",
      "60000/60000 [==============================] - 21s 345us/step - loss: 0.0416 - acc: 0.9869 - val_loss: 0.0583 - val_acc: 0.9852\n",
      "Epoch 20/20\n",
      "60000/60000 [==============================] - 21s 350us/step - loss: 0.0411 - acc: 0.9876 - val_loss: 0.0562 - val_acc: 0.9853\n"
     ]
    }
   ],
   "source": [
    "from keras.layers import Dropout\n",
    "from keras.layers.normalization import BatchNormalization\n",
    "\n",
    "model_relu = Sequential()\n",
    "model_relu.add(Dense(1024, activation='relu', input_shape=(ip_dim,), kernel_initializer='he_normal'))\n",
    "model_relu.add(Dropout(0.5))\n",
    "model_relu.add(Dense(512, activation='relu', kernel_initializer='he_normal'))\n",
    "model_relu.add(Dropout(0.5))\n",
    "model_relu.add(BatchNormalization())\n",
    "model_relu.add(Dense(128, activation='relu', kernel_initializer='he_normal'))\n",
    "model_relu.add(Dropout(0.5))\n",
    "model_relu.add(BatchNormalization())\n",
    "model_relu.add(Dense(op_dim, activation='softmax'))\n",
    "\n",
    "print(model_relu.summary())\n",
    "\n",
    "model_relu.compile(optimizer='adam', loss='categorical_crossentropy', metrics=['accuracy'])\n",
    "hist = model_relu.fit(x_train, y_train, batch_size=batch_size, epochs=epoch, verbose=1, validation_data=(x_test, y_test))"
   ]
  },
  {
   "cell_type": "code",
   "execution_count": 29,
   "metadata": {
    "colab": {
     "base_uri": "https://localhost:8080/",
     "height": 394
    },
    "colab_type": "code",
    "id": "VNBumRX3oX2Y",
    "outputId": "369fd9df-664a-4a81-94d3-e1d73bd7fd27"
   },
   "outputs": [
    {
     "name": "stdout",
     "output_type": "stream",
     "text": [
      "Test score: 0.056153808252408635\n",
      "Test accuracy: 0.9853\n"
     ]
    },
    {
     "data": {
      "image/png": "[encoded data removed]",
      "text/plain": [
       "<matplotlib.figure.Figure at 0x7f64ed763470>"
      ]
     },
     "metadata": {
      "tags": []
     },
     "output_type": "display_data"
    }
   ],
   "source": [
    "score = model_relu.evaluate(x_test, y_test, verbose=0)\n",
    "print('Test score:', score[0]) \n",
    "print('Test accuracy:', score[1])\n",
    "\n",
    "fig,ax = plt.subplots(1,1)\n",
    "ax.set_xlabel('epoch') ; ax.set_ylabel('Categorical Crossentropy Loss')\n",
    "\n",
    "x = list(range(1,epoch+1))\n",
    "\n",
    "vy = hist.history['val_loss']\n",
    "ty = hist.history['loss']\n",
    "plt_dyn(x, vy, ty, ax)"
   ]
  },
  {
   "cell_type": "markdown",
   "metadata": {
    "colab_type": "text",
    "id": "V8vekgTdAxu5"
   },
   "source": [
    "## Model 4"
   ]
  },
  {
   "cell_type": "code",
   "execution_count": 30,
   "metadata": {
    "colab": {
     "base_uri": "https://localhost:8080/",
     "height": 1243
    },
    "colab_type": "code",
    "id": "P0U98zvBowVl",
    "outputId": "f958466f-9641-45b2-c940-23d95dc4c4b5"
   },
   "outputs": [
    {
     "name": "stdout",
     "output_type": "stream",
     "text": [
      "_________________________________________________________________\n",
      "Layer (type)                 Output Shape              Param #   \n",
      "=================================================================\n",
      "dense_21 (Dense)             (None, 1024)              803840    \n",
      "_________________________________________________________________\n",
      "dropout_6 (Dropout)          (None, 1024)              0         \n",
      "_________________________________________________________________\n",
      "dense_22 (Dense)             (None, 512)               524800    \n",
      "_________________________________________________________________\n",
      "dropout_7 (Dropout)          (None, 512)               0         \n",
      "_________________________________________________________________\n",
      "batch_normalization_3 (Batch (None, 512)               2048      \n",
      "_________________________________________________________________\n",
      "dense_23 (Dense)             (None, 128)               65664     \n",
      "_________________________________________________________________\n",
      "dropout_8 (Dropout)          (None, 128)               0         \n",
      "_________________________________________________________________\n",
      "batch_normalization_4 (Batch (None, 128)               512       \n",
      "_________________________________________________________________\n",
      "dense_24 (Dense)             (None, 64)                8256      \n",
      "_________________________________________________________________\n",
      "dropout_9 (Dropout)          (None, 64)                0         \n",
      "_________________________________________________________________\n",
      "batch_normalization_5 (Batch (None, 64)                256       \n",
      "_________________________________________________________________\n",
      "dense_25 (Dense)             (None, 10)                650       \n",
      "=================================================================\n",
      "Total params: 1,406,026\n",
      "Trainable params: 1,404,618\n",
      "Non-trainable params: 1,408\n",
      "_________________________________________________________________\n",
      "None\n",
      "Train on 60000 samples, validate on 10000 samples\n",
      "Epoch 1/20\n",
      "60000/60000 [==============================] - 23s 389us/step - loss: 0.9452 - acc: 0.7074 - val_loss: 0.2023 - val_acc: 0.9423\n",
      "Epoch 2/20\n",
      "60000/60000 [==============================] - 22s 369us/step - loss: 0.3308 - acc: 0.9149 - val_loss: 0.1368 - val_acc: 0.9618\n",
      "Epoch 3/20\n",
      "60000/60000 [==============================] - 22s 365us/step - loss: 0.2456 - acc: 0.9388 - val_loss: 0.1165 - val_acc: 0.9678\n",
      "Epoch 4/20\n",
      "60000/60000 [==============================] - 22s 367us/step - loss: 0.2007 - acc: 0.9501 - val_loss: 0.0956 - val_acc: 0.9728\n",
      "Epoch 5/20\n",
      "60000/60000 [==============================] - 23s 379us/step - loss: 0.1786 - acc: 0.9564 - val_loss: 0.0931 - val_acc: 0.9740\n",
      "Epoch 6/20\n",
      "60000/60000 [==============================] - 22s 368us/step - loss: 0.1612 - acc: 0.9607 - val_loss: 0.0817 - val_acc: 0.9777\n",
      "Epoch 7/20\n",
      "60000/60000 [==============================] - 22s 373us/step - loss: 0.1435 - acc: 0.9650 - val_loss: 0.0817 - val_acc: 0.9779\n",
      "Epoch 8/20\n",
      "60000/60000 [==============================] - 22s 365us/step - loss: 0.1328 - acc: 0.9680 - val_loss: 0.0775 - val_acc: 0.9797\n",
      "Epoch 9/20\n",
      "60000/60000 [==============================] - 22s 361us/step - loss: 0.1231 - acc: 0.9705 - val_loss: 0.0773 - val_acc: 0.9791\n",
      "Epoch 10/20\n",
      "60000/60000 [==============================] - 22s 364us/step - loss: 0.1128 - acc: 0.9728 - val_loss: 0.0733 - val_acc: 0.9811\n",
      "Epoch 11/20\n",
      "60000/60000 [==============================] - 21s 357us/step - loss: 0.1047 - acc: 0.9742 - val_loss: 0.0718 - val_acc: 0.9820\n",
      "Epoch 12/20\n",
      "60000/60000 [==============================] - 22s 362us/step - loss: 0.1056 - acc: 0.9739 - val_loss: 0.0655 - val_acc: 0.9831\n",
      "Epoch 13/20\n",
      "60000/60000 [==============================] - 22s 363us/step - loss: 0.0985 - acc: 0.9761 - val_loss: 0.0674 - val_acc: 0.9816\n",
      "Epoch 14/20\n",
      "60000/60000 [==============================] - 22s 364us/step - loss: 0.0934 - acc: 0.9775 - val_loss: 0.0632 - val_acc: 0.9840\n",
      "Epoch 15/20\n",
      "60000/60000 [==============================] - 22s 369us/step - loss: 0.0904 - acc: 0.9786 - val_loss: 0.0685 - val_acc: 0.9827\n",
      "Epoch 16/20\n",
      "60000/60000 [==============================] - 22s 370us/step - loss: 0.0826 - acc: 0.9797 - val_loss: 0.0689 - val_acc: 0.9834\n",
      "Epoch 17/20\n",
      "60000/60000 [==============================] - 22s 365us/step - loss: 0.0820 - acc: 0.9804 - val_loss: 0.0674 - val_acc: 0.9834\n",
      "Epoch 18/20\n",
      "60000/60000 [==============================] - 22s 366us/step - loss: 0.0773 - acc: 0.9814 - val_loss: 0.0670 - val_acc: 0.9823\n",
      "Epoch 19/20\n",
      "60000/60000 [==============================] - 22s 374us/step - loss: 0.0736 - acc: 0.9819 - val_loss: 0.0694 - val_acc: 0.9835\n",
      "Epoch 20/20\n",
      "60000/60000 [==============================] - 22s 365us/step - loss: 0.0686 - acc: 0.9829 - val_loss: 0.0703 - val_acc: 0.9829\n"
     ]
    }
   ],
   "source": [
    "model_relu = Sequential()\n",
    "model_relu.add(Dense(1024, activation='relu', input_shape=(ip_dim,), kernel_initializer='he_normal'))\n",
    "model_relu.add(Dropout(0.5))\n",
    "model_relu.add(Dense(512, activation='relu', kernel_initializer='he_normal'))\n",
    "model_relu.add(Dropout(0.5))\n",
    "model_relu.add(BatchNormalization())\n",
    "model_relu.add(Dense(128, activation='relu', kernel_initializer='he_normal'))\n",
    "model_relu.add(Dropout(0.5))\n",
    "model_relu.add(BatchNormalization())\n",
    "model_relu.add(Dense(64, activation='relu', kernel_initializer='he_normal'))\n",
    "model_relu.add(Dropout(0.5))\n",
    "model_relu.add(BatchNormalization())\n",
    "model_relu.add(Dense(op_dim, activation='softmax'))\n",
    "\n",
    "print(model_relu.summary())\n",
    "\n",
    "model_relu.compile(optimizer='adam', loss='categorical_crossentropy', metrics=['accuracy'])\n",
    "hist = model_relu.fit(x_train, y_train, batch_size=batch_size, epochs=epoch, verbose=1, validation_data=(x_test, y_test))"
   ]
  },
  {
   "cell_type": "code",
   "execution_count": 31,
   "metadata": {
    "colab": {
     "base_uri": "https://localhost:8080/",
     "height": 394
    },
    "colab_type": "code",
    "id": "2Tx58UwN6MQy",
    "outputId": "3e417674-7919-4891-9215-8eaacb2cc60e"
   },
   "outputs": [
    {
     "name": "stdout",
     "output_type": "stream",
     "text": [
      "Test score: 0.070341537701356\n",
      "Test accuracy: 0.9829\n"
     ]
    },
    {
     "data": {
      "image/png": "[encoded data removed]",
      "text/plain": [
       "<matplotlib.figure.Figure at 0x7f64e6c162e8>"
      ]
     },
     "metadata": {
      "tags": []
     },
     "output_type": "display_data"
    }
   ],
   "source": [
    "score = model_relu.evaluate(x_test, y_test, verbose=0)\n",
    "print('Test score:', score[0]) \n",
    "print('Test accuracy:', score[1])\n",
    "\n",
    "fig,ax = plt.subplots(1,1)\n",
    "ax.set_xlabel('epoch') ; ax.set_ylabel('Categorical Crossentropy Loss')\n",
    "\n",
    "x = list(range(1,epoch+1))\n",
    "\n",
    "vy = hist.history['val_loss']\n",
    "ty = hist.history['loss']\n",
    "plt_dyn(x, vy, ty, ax)"
   ]
  },
  {
   "cell_type": "markdown",
   "metadata": {
    "colab_type": "text",
    "id": "VQrZzEDSAtXQ"
   },
   "source": [
    "## Model 5"
   ]
  },
  {
   "cell_type": "code",
   "execution_count": 32,
   "metadata": {
    "colab": {
     "base_uri": "https://localhost:8080/",
     "height": 1243
    },
    "colab_type": "code",
    "id": "nDmbQwby6ac_",
    "outputId": "74f5243d-af7b-43b0-acee-2f063b54fa2a"
   },
   "outputs": [
    {
     "name": "stdout",
     "output_type": "stream",
     "text": [
      "_________________________________________________________________\n",
      "Layer (type)                 Output Shape              Param #   \n",
      "=================================================================\n",
      "dense_26 (Dense)             (None, 1024)              803840    \n",
      "_________________________________________________________________\n",
      "dropout_10 (Dropout)         (None, 1024)              0         \n",
      "_________________________________________________________________\n",
      "dense_27 (Dense)             (None, 512)               524800    \n",
      "_________________________________________________________________\n",
      "dropout_11 (Dropout)         (None, 512)               0         \n",
      "_________________________________________________________________\n",
      "batch_normalization_6 (Batch (None, 512)               2048      \n",
      "_________________________________________________________________\n",
      "dense_28 (Dense)             (None, 512)               262656    \n",
      "_________________________________________________________________\n",
      "dropout_12 (Dropout)         (None, 512)               0         \n",
      "_________________________________________________________________\n",
      "batch_normalization_7 (Batch (None, 512)               2048      \n",
      "_________________________________________________________________\n",
      "dense_29 (Dense)             (None, 64)                32832     \n",
      "_________________________________________________________________\n",
      "dropout_13 (Dropout)         (None, 64)                0         \n",
      "_________________________________________________________________\n",
      "batch_normalization_8 (Batch (None, 64)                256       \n",
      "_________________________________________________________________\n",
      "dense_30 (Dense)             (None, 10)                650       \n",
      "=================================================================\n",
      "Total params: 1,629,130\n",
      "Trainable params: 1,626,954\n",
      "Non-trainable params: 2,176\n",
      "_________________________________________________________________\n",
      "None\n",
      "Train on 60000 samples, validate on 10000 samples\n",
      "Epoch 1/20\n",
      "60000/60000 [==============================] - 27s 446us/step - loss: 0.7481 - acc: 0.7739 - val_loss: 0.1642 - val_acc: 0.9519\n",
      "Epoch 2/20\n",
      "60000/60000 [==============================] - 25s 423us/step - loss: 0.2723 - acc: 0.9276 - val_loss: 0.1231 - val_acc: 0.9629\n",
      "Epoch 3/20\n",
      "60000/60000 [==============================] - 25s 425us/step - loss: 0.2089 - acc: 0.9464 - val_loss: 0.1082 - val_acc: 0.9688\n",
      "Epoch 4/20\n",
      "60000/60000 [==============================] - 25s 424us/step - loss: 0.1738 - acc: 0.9544 - val_loss: 0.0870 - val_acc: 0.9750\n",
      "Epoch 5/20\n",
      "60000/60000 [==============================] - 25s 423us/step - loss: 0.1487 - acc: 0.9606 - val_loss: 0.0815 - val_acc: 0.9772\n",
      "Epoch 6/20\n",
      "60000/60000 [==============================] - 25s 423us/step - loss: 0.1319 - acc: 0.9660 - val_loss: 0.0767 - val_acc: 0.9781\n",
      "Epoch 7/20\n",
      "60000/60000 [==============================] - 26s 430us/step - loss: 0.1250 - acc: 0.9681 - val_loss: 0.0834 - val_acc: 0.9778\n",
      "Epoch 8/20\n",
      "60000/60000 [==============================] - 25s 425us/step - loss: 0.1106 - acc: 0.9711 - val_loss: 0.0729 - val_acc: 0.9803\n",
      "Epoch 9/20\n",
      "60000/60000 [==============================] - 25s 422us/step - loss: 0.1044 - acc: 0.9737 - val_loss: 0.0668 - val_acc: 0.9815\n",
      "Epoch 10/20\n",
      "60000/60000 [==============================] - 25s 422us/step - loss: 0.0993 - acc: 0.9749 - val_loss: 0.0674 - val_acc: 0.9803\n",
      "Epoch 11/20\n",
      "60000/60000 [==============================] - 25s 422us/step - loss: 0.0881 - acc: 0.9771 - val_loss: 0.0677 - val_acc: 0.9821\n",
      "Epoch 12/20\n",
      "60000/60000 [==============================] - 25s 424us/step - loss: 0.0850 - acc: 0.9778 - val_loss: 0.0693 - val_acc: 0.9802\n",
      "Epoch 13/20\n",
      "60000/60000 [==============================] - 25s 422us/step - loss: 0.0829 - acc: 0.9787 - val_loss: 0.0663 - val_acc: 0.9822\n",
      "Epoch 14/20\n",
      "60000/60000 [==============================] - 25s 421us/step - loss: 0.0780 - acc: 0.9796 - val_loss: 0.0628 - val_acc: 0.9838\n",
      "Epoch 15/20\n",
      "60000/60000 [==============================] - 25s 422us/step - loss: 0.0746 - acc: 0.9807 - val_loss: 0.0693 - val_acc: 0.9812\n",
      "Epoch 16/20\n",
      "60000/60000 [==============================] - 25s 423us/step - loss: 0.0737 - acc: 0.9813 - val_loss: 0.0643 - val_acc: 0.9822\n",
      "Epoch 17/20\n",
      "60000/60000 [==============================] - 25s 423us/step - loss: 0.0654 - acc: 0.9834 - val_loss: 0.0695 - val_acc: 0.9815\n",
      "Epoch 18/20\n",
      "60000/60000 [==============================] - 25s 423us/step - loss: 0.0642 - acc: 0.9830 - val_loss: 0.0667 - val_acc: 0.9824\n",
      "Epoch 19/20\n",
      "60000/60000 [==============================] - 26s 426us/step - loss: 0.0666 - acc: 0.9823 - val_loss: 0.0702 - val_acc: 0.9812\n",
      "Epoch 20/20\n",
      "60000/60000 [==============================] - 26s 430us/step - loss: 0.0590 - acc: 0.9845 - val_loss: 0.0622 - val_acc: 0.9848\n"
     ]
    }
   ],
   "source": [
    "model_relu = Sequential()\n",
    "model_relu.add(Dense(1024, activation='relu', input_shape=(ip_dim,), kernel_initializer='he_normal'))\n",
    "model_relu.add(Dropout(0.5))\n",
    "model_relu.add(Dense(512, activation='relu', kernel_initializer='he_normal'))\n",
    "model_relu.add(Dropout(0.5))\n",
    "model_relu.add(BatchNormalization())\n",
    "model_relu.add(Dense(512, activation='relu', kernel_initializer='he_normal'))\n",
    "model_relu.add(Dropout(0.5))\n",
    "model_relu.add(BatchNormalization())\n",
    "model_relu.add(Dense(64, activation='relu', kernel_initializer='he_normal'))\n",
    "model_relu.add(Dropout(0.5))\n",
    "model_relu.add(BatchNormalization())\n",
    "model_relu.add(Dense(op_dim, activation='softmax'))\n",
    "\n",
    "print(model_relu.summary())\n",
    "\n",
    "model_relu.compile(optimizer='adam', loss='categorical_crossentropy', metrics=['accuracy'])\n",
    "hist = model_relu.fit(x_train, y_train, batch_size=batch_size, epochs=epoch, verbose=1, validation_data=(x_test, y_test))"
   ]
  },
  {
   "cell_type": "code",
   "execution_count": 33,
   "metadata": {
    "colab": {
     "base_uri": "https://localhost:8080/",
     "height": 394
    },
    "colab_type": "code",
    "id": "9HR9EDyU6nBT",
    "outputId": "de06d336-2378-4c38-a949-29a5587dbe29"
   },
   "outputs": [
    {
     "name": "stdout",
     "output_type": "stream",
     "text": [
      "Test score: 0.06222468323039939\n",
      "Test accuracy: 0.9848\n"
     ]
    },
    {
     "data": {
      "image/png": "[encoded data removed]",
      "text/plain": [
       "<matplotlib.figure.Figure at 0x7f64e7fec588>"
      ]
     },
     "metadata": {
      "tags": []
     },
     "output_type": "display_data"
    }
   ],
   "source": [
    "score = model_relu.evaluate(x_test, y_test, verbose=0)\n",
    "print('Test score:', score[0]) \n",
    "print('Test accuracy:', score[1])\n",
    "\n",
    "fig,ax = plt.subplots(1,1)\n",
    "ax.set_xlabel('epoch') ; ax.set_ylabel('Categorical Crossentropy Loss')\n",
    "\n",
    "x = list(range(1,epoch+1))\n",
    "\n",
    "vy = hist.history['val_loss']\n",
    "ty = hist.history['loss']\n",
    "plt_dyn(x, vy, ty, ax)"
   ]
  },
  {
   "cell_type": "markdown",
   "metadata": {
    "colab_type": "text",
    "id": "csAcG5ee-iRb"
   },
   "source": [
    "# Conclusion\n",
    "\n",
    "**Architecture**:\n",
    "\n",
    "\n",
    "1.   **Model 1**: Basic Softmax\n",
    "2.   **Model 2**: input-ReLu(512)-ReLu(128)-sigmoid(output)-AdamOptimizer\n",
    "3.   **Model 3**: input-ReLu(1024)-ReLu(512)-sigmoid(output)-AdamOptimizer\n",
    "4.   **Model 4**: input-ReLu(1024)-ReLu(512)-Relu(128)-Relu(64)-sigmoid(output)-AdamOptimizer_wBN_Dropout\n",
    "5.   **Model 5**: input-ReLu(1024)-ReLu(512)-Relu(512)-Relu(64)-sigmoid(output)-AdamOptimizer_wBN_Dropout\n",
    "\n",
    "\n",
    "| Model | Train loss | Validation loss | Test Accuracy |\n",
    "| --- | --- | --- | --- |\n",
    "| Model 1 | 0.354 | 0.336 | 90.97 % |\n",
    "| Model 2 | 0.007 | 0.109 | 97.80 % |\n",
    "| Model 3 | 0.041 | 0.056 | 98.53 % |\n",
    "| Model 4 | 0.068 | 0.070 | 98.29 % |\n",
    "| Model 5 | 0.059 | 0.062 | 98.48 % |\n"
   ]
  }
 ],
 "metadata": {
  "colab": {
   "collapsed_sections": [],
   "name": "MNIST_Keras.ipynb",
   "provenance": [],
   "version": "0.3.2"
  },
  "kernelspec": {
   "display_name": "Python 3",
   "language": "python",
   "name": "python3"
  },
  "language_info": {
   "codemirror_mode": {
    "name": "ipython",
    "version": 3
   },
   "file_extension": ".py",
   "mimetype": "text/x-python",
   "name": "python",
   "nbconvert_exporter": "python",
   "pygments_lexer": "ipython3",
   "version": "3.6.5"
  }
 },
 "nbformat": 4,
 "nbformat_minor": 1
}
