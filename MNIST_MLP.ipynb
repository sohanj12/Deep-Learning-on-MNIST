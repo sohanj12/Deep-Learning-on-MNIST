{
 "cells": [
  {
   "cell_type": "code",
   "execution_count": 0,
   "metadata": {
    "colab": {},
    "colab_type": "code",
    "id": "deb5fyGjjqfV"
   },
   "outputs": [],
   "source": [
    "import tensorflow as tf\n",
    "from tensorflow.examples.tutorials.mnist import input_data\n",
    "import numpy as np\n",
    "from tensorflow.python.client import device_lib\n",
    "import matplotlib.pyplot as plt\n",
    "import warnings\n",
    "import pandas as pd\n",
    "\n",
    "warnings.filterwarnings(action='ignore',module='tensorflow')"
   ]
  },
  {
   "cell_type": "code",
   "execution_count": 0,
   "metadata": {
    "colab": {
     "base_uri": "https://localhost:8080/",
     "height": 257
    },
    "colab_type": "code",
    "id": "7AsRh4y2kimx",
    "outputId": "5e451022-4249-4c13-e252-b4f3b800300c"
   },
   "outputs": [
    {
     "name": "stdout",
     "output_type": "stream",
     "text": [
      "[name: \"/device:CPU:0\"\n",
      "device_type: \"CPU\"\n",
      "memory_limit: 268435456\n",
      "locality {\n",
      "}\n",
      "incarnation: 2576881873531196925\n",
      ", name: \"/device:XLA_CPU:0\"\n",
      "device_type: \"XLA_CPU\"\n",
      "memory_limit: 17179869184\n",
      "locality {\n",
      "}\n",
      "incarnation: 9162212640361582177\n",
      "physical_device_desc: \"device: XLA_CPU device\"\n",
      "]\n"
     ]
    }
   ],
   "source": [
    "hello = tf.constant('Hello world')\n",
    "sess = tf.Session()\n",
    "sess.run(hello)\n",
    "print(device_lib.list_local_devices())"
   ]
  },
  {
   "cell_type": "code",
   "execution_count": 11,
   "metadata": {
    "colab": {
     "base_uri": "https://localhost:8080/",
     "height": 86
    },
    "colab_type": "code",
    "id": "vK_ldl64mmBe",
    "outputId": "46061355-ec9f-4ff9-eb3f-762690b6903d"
   },
   "outputs": [
    {
     "name": "stdout",
     "output_type": "stream",
     "text": [
      "Extracting MNIST_data/train-images-idx3-ubyte.gz\n",
      "Extracting MNIST_data/train-labels-idx1-ubyte.gz\n",
      "Extracting MNIST_data/t10k-images-idx3-ubyte.gz\n",
      "Extracting MNIST_data/t10k-labels-idx1-ubyte.gz\n"
     ]
    }
   ],
   "source": [
    "mnist = input_data.read_data_sets('MNIST_data/', one_hot=True)"
   ]
  },
  {
   "cell_type": "markdown",
   "metadata": {
    "colab_type": "text",
    "id": "NhSE3LvoppV6"
   },
   "source": [
    "## **Model 1**"
   ]
  },
  {
   "cell_type": "code",
   "execution_count": 0,
   "metadata": {
    "colab": {
     "base_uri": "https://localhost:8080/",
     "height": 34
    },
    "colab_type": "code",
    "id": "HhUYN4OJm_Y0",
    "outputId": "75f14612-ac61-4e8d-88f5-b455e088fa02"
   },
   "outputs": [
    {
     "name": "stdout",
     "output_type": "stream",
     "text": [
      "0.901\n"
     ]
    }
   ],
   "source": [
    "#Single layer softmax\n",
    "\n",
    "x = tf.placeholder(tf.float32, [None, 784])\n",
    "W = tf.Variable(tf.zeros([784,10]))\n",
    "b = tf.Variable(tf.zeros([10]))\n",
    "y = tf.nn.softmax(tf.matmul(x,W)+b)\n",
    "y_ = tf.placeholder(tf.float32, [None, 10])\n",
    "\n",
    "cross_entropy = tf.reduce_mean(-tf.reduce_sum(y_ * tf.log(y), reduction_indices=[1]))\n",
    "train_step = tf.train.GradientDescentOptimizer(0.05).minimize(cross_entropy)\n",
    "sess = tf.InteractiveSession()\n",
    "tf.global_variables_initializer().run()\n",
    "\n",
    "for _ in range(1000):\n",
    "  batch_xs, batch_ys = mnist.train.next_batch(100)\n",
    "  sess.run(train_step, feed_dict={x:batch_xs, y_:batch_ys})\n",
    "\n",
    "correct_predictions = tf.equal(tf.argmax(y,1), tf.argmax(y_,1))\n",
    "accuracy = tf.reduce_mean(tf.cast(correct_predictions, tf.float32))\n",
    "\n",
    "print(sess.run(accuracy, feed_dict={x:mnist.test.images, y_:mnist.test.labels}))"
   ]
  },
  {
   "cell_type": "code",
   "execution_count": 0,
   "metadata": {
    "colab": {},
    "colab_type": "code",
    "id": "XCckcNWpw1_f"
   },
   "outputs": [],
   "source": [
    "def plt_dynamic(x,y,y_1, ax, ticks, title, color=['b']):\n",
    "  ax.plot(x,y, 'b', label='Train loss')\n",
    "  ax.plot(x,y_1, 'r', label = 'Test  loss')\n",
    "  if len(x)==1:\n",
    "    plt.legend()\n",
    "    plt.title(title)\n",
    "  plt.yticks(ticks)\n",
    "  fig.canvas.draw()\n",
    "  "
   ]
  },
  {
   "cell_type": "markdown",
   "metadata": {
    "colab_type": "text",
    "id": "HFUXoBC_p0NM"
   },
   "source": [
    "## Model 2"
   ]
  },
  {
   "cell_type": "code",
   "execution_count": 19,
   "metadata": {
    "colab": {
     "base_uri": "https://localhost:8080/",
     "height": 650
    },
    "colab_type": "code",
    "id": "njjw6xqh_JJo",
    "outputId": "3d94db85-afda-48e8-d780-4fe8dda181c1"
   },
   "outputs": [
    {
     "name": "stdout",
     "output_type": "stream",
     "text": [
      "Epoch: 0001 train cost=1.571487745 test cost=1.566484674\n",
      "Epoch: 0002 train cost=1.500309343 test cost=1.501361719\n",
      "Epoch: 0003 train cost=1.488695869 test cost=1.491904452\n",
      "Epoch: 0004 train cost=1.482248514 test cost=1.487762637\n",
      "Epoch: 0005 train cost=1.478110445 test cost=1.485131004\n",
      "Epoch: 0006 train cost=1.475164547 test cost=1.483353606\n",
      "Epoch: 0007 train cost=1.473397647 test cost=1.482468967\n",
      "Epoch: 0008 train cost=1.471389321 test cost=1.481375995\n",
      "Epoch: 0009 train cost=1.470399070 test cost=1.480892112\n",
      "Epoch: 0010 train cost=1.469422719 test cost=1.480705170\n",
      "Epoch: 0011 train cost=1.468756700 test cost=1.480570794\n",
      "Epoch: 0012 train cost=1.468131680 test cost=1.480431313\n",
      "Epoch: 0013 train cost=1.467582396 test cost=1.479756822\n",
      "Epoch: 0014 train cost=1.466482145 test cost=1.479427436\n",
      "Epoch: 0015 train cost=1.466899492 test cost=1.479756116\n",
      "Accuracy: 0.9755\n"
     ]
    },
    {
     "data": {
      "image/png": "[encoded data removed]",
      "text/plain": [
       "<matplotlib.figure.Figure at 0x7fb4c1e9a978>"
      ]
     },
     "metadata": {
      "tags": []
     },
     "output_type": "display_data"
    }
   ],
   "source": [
    "n_hid_1 = 512\n",
    "n_hid_2 = 128\n",
    "n_inp = 784\n",
    "n_cls = 10\n",
    "\n",
    "x = tf.placeholder(tf.float32,[None,784])\n",
    "y_ = tf.placeholder(tf.float32, [None, 10])\n",
    "\n",
    "keep_prob_tr = tf.placeholder(tf.float32)\n",
    "keep_prob_te = tf.placeholder(tf.float32)\n",
    "\n",
    "weights_sgd = {'h1':tf.Variable(tf.random_normal([n_inp, n_hid_1], stddev=0.39, mean=0)),\n",
    "              'h2':tf.Variable(tf.random_normal([n_hid_1, n_hid_2], stddev=0.55, mean=0)),\n",
    "              'out':tf.Variable(tf.random_normal([n_hid_2, n_cls], stddev=0.12, mean=0))}\n",
    "\n",
    "weights_relu = {'h1':tf.Variable(tf.random_normal([n_inp, n_hid_1], stddev=0.062, mean=0)),\n",
    "               'h2':tf.Variable(tf.random_normal([n_hid_1, n_hid_2], stddev=0.125, mean=0)),\n",
    "               'out': tf.Variable(tf.random_normal([n_hid_2, n_cls], stddev=0.120, mean=0))}\n",
    "\n",
    "biases = {'b1':tf.Variable(tf.random_normal([n_hid_1])),\n",
    "         'b2': tf.Variable(tf.random_normal([n_hid_2])),\n",
    "         'out':tf.Variable(tf.random_normal([n_cls]))}\n",
    "\n",
    "training_epochs = 15\n",
    "learning_rate = 0.001\n",
    "batch_size = 100\n",
    "display_step = 1\n",
    "\n",
    "def mlp(x, weights, biases):\n",
    "  layer_1 = tf.add(tf.matmul(x,weights['h1']), biases['b1'])\n",
    "  layer_1 = tf.nn.relu(layer_1)\n",
    "  \n",
    "  layer_2 = tf.add(tf.matmul(layer_1, weights['h2']), biases['b2'])\n",
    "  layer_2 = tf.nn.relu(layer_2)\n",
    "  \n",
    "  out_layer = tf.add(tf.matmul(layer_2, weights['out']), biases['out'])\n",
    "  out_layer = tf.sigmoid(out_layer)\n",
    "  \n",
    "  return out_layer\n",
    "\n",
    "\n",
    "mlp_relu = mlp(x, weights_relu, biases)\n",
    "cost_relu = tf.reduce_mean(tf.nn.softmax_cross_entropy_with_logits(logits=mlp_relu, labels=y_))\n",
    "optimizer_relu = tf.train.AdamOptimizer(learning_rate=learning_rate).minimize(cost_relu)\n",
    "\n",
    "with tf.Session() as sess:\n",
    "  tf.global_variables_initializer().run()\n",
    "  \n",
    "  fig,ax = plt.subplots(1,1)\n",
    "  ax.set_xlabel('Epoch')\n",
    "  ax.set_ylabel('Soft max entropy loss')\n",
    "  \n",
    "  xs, ytr, yte = [], [], []\n",
    "  \n",
    "  \n",
    "  for epoch in range(training_epochs):\n",
    "    train_avg_cost = 0.\n",
    "    test_avg_cost =0.\n",
    "    total_batch = int(mnist.train.num_examples/batch_size)\n",
    "\n",
    "\n",
    "  \n",
    "    for i in range(total_batch):\n",
    "      batch_xs, batch_ys = mnist.train.next_batch(batch_size)\n",
    "\n",
    "      _,c,w = sess.run([optimizer_relu, cost_relu, weights_relu], feed_dict={x: batch_xs, y_: batch_ys})\n",
    "      train_avg_cost += c/total_batch\n",
    "      c = sess.run(cost_relu, feed_dict={x:mnist.test.images, y_:mnist.test.labels})\n",
    "      test_avg_cost += c/total_batch\n",
    "    \n",
    "    xs.append(epoch)\n",
    "    ytr.append(train_avg_cost)\n",
    "    yte.append(test_avg_cost)\n",
    "    plt_dynamic(xs, ytr, yte, ax, np.arange(1.3, 1.8, step=0.04), \"input-ReLu(512)-ReLu(128)-sigmoid(output)-AdamOptimizer\")\n",
    "\n",
    "    if epoch%display_step == 0:\n",
    "        print(\"Epoch:\", '%04d' % (epoch+1), \"train cost={:.9f}\".format(train_avg_cost), \"test cost={:.9f}\".format(test_avg_cost))\n",
    "\n",
    "  # plot final results\n",
    "  plt_dynamic(xs, ytr, yte, ax,np.arange(1.3, 1.8, step=0.04), \"input-ReLu(512)-ReLu(128)-sigmoid(output)-AdamOptimizer\")\n",
    "\n",
    "  # we are calculating the final accuracy on the test data\n",
    "  correct_prediction = tf.equal(tf.argmax(mlp_relu,1), tf.argmax(y_,1))\n",
    "  accuracy = tf.reduce_mean(tf.cast(correct_prediction, tf.float32))\n",
    "  print(\"Accuracy:\", accuracy.eval({x: mnist.test.images, y_: mnist.test.labels}))\n",
    "    "
   ]
  },
  {
   "cell_type": "markdown",
   "metadata": {
    "colab_type": "text",
    "id": "1ZPjH8wFp4ti"
   },
   "source": [
    "## Model 3"
   ]
  },
  {
   "cell_type": "code",
   "execution_count": 20,
   "metadata": {
    "colab": {
     "base_uri": "https://localhost:8080/",
     "height": 650
    },
    "colab_type": "code",
    "id": "GILCmgzLayGF",
    "outputId": "8abbb695-a68a-4525-8737-fa73cf0eba1a"
   },
   "outputs": [
    {
     "name": "stdout",
     "output_type": "stream",
     "text": [
      "Epoch: 0001 train cost=1.546038464 test cost=1.540821958\n",
      "Epoch: 0002 train cost=1.493085540 test cost=1.493838643\n",
      "Epoch: 0003 train cost=1.483174813 test cost=1.487025612\n",
      "Epoch: 0004 train cost=1.477995852 test cost=1.482986903\n",
      "Epoch: 0005 train cost=1.474744202 test cost=1.481380302\n",
      "Epoch: 0006 train cost=1.472108467 test cost=1.480828444\n",
      "Epoch: 0007 train cost=1.470949577 test cost=1.479783354\n",
      "Epoch: 0008 train cost=1.469819157 test cost=1.478978523\n",
      "Epoch: 0009 train cost=1.469132023 test cost=1.478784167\n",
      "Epoch: 0010 train cost=1.468856179 test cost=1.479377706\n",
      "Epoch: 0011 train cost=1.467648180 test cost=1.479318025\n",
      "Epoch: 0012 train cost=1.467449266 test cost=1.479109711\n",
      "Epoch: 0013 train cost=1.467229244 test cost=1.479088668\n",
      "Epoch: 0014 train cost=1.466928347 test cost=1.478628253\n",
      "Epoch: 0015 train cost=1.466672328 test cost=1.479649370\n",
      "Accuracy: 0.981\n"
     ]
    },
    {
     "data": {
      "image/png": "[encoded data removed]",
      "text/plain": [
       "<matplotlib.figure.Figure at 0x7fb4c18de9e8>"
      ]
     },
     "metadata": {
      "tags": []
     },
     "output_type": "display_data"
    }
   ],
   "source": [
    "n_hid_1 = 1024\n",
    "n_hid_2 = 512\n",
    "n_inp = 784\n",
    "n_cls = 10\n",
    "\n",
    "x = tf.placeholder(tf.float32,[None,784])\n",
    "y_ = tf.placeholder(tf.float32, [None, 10])\n",
    "\n",
    "keep_prob_tr = tf.placeholder(tf.float32)\n",
    "keep_prob_te = tf.placeholder(tf.float32)\n",
    "\n",
    "weights_relu = {'h1':tf.Variable(tf.random_normal([n_inp, n_hid_1], stddev=0.050, mean=0)),\n",
    "               'h2':tf.Variable(tf.random_normal([n_hid_1, n_hid_2], stddev=0.044, mean=0)),\n",
    "               'out': tf.Variable(tf.random_normal([n_hid_2, n_cls], stddev=0.062, mean=0))}\n",
    "\n",
    "biases = {'b1':tf.Variable(tf.random_normal([n_hid_1])),\n",
    "         'b2': tf.Variable(tf.random_normal([n_hid_2])),\n",
    "         'out':tf.Variable(tf.random_normal([n_cls]))}\n",
    "\n",
    "training_epochs = 15\n",
    "learning_rate = 0.001\n",
    "batch_size = 100\n",
    "display_step = 1\n",
    "\n",
    "def mlp(x, weights, biases):\n",
    "  layer_1 = tf.add(tf.matmul(x,weights['h1']), biases['b1'])\n",
    "  layer_1 = tf.nn.relu(layer_1)\n",
    "  \n",
    "  layer_2 = tf.add(tf.matmul(layer_1, weights['h2']), biases['b2'])\n",
    "  layer_2 = tf.nn.relu(layer_2)\n",
    "  \n",
    "  out_layer = tf.add(tf.matmul(layer_2, weights['out']), biases['out'])\n",
    "  out_layer = tf.sigmoid(out_layer)\n",
    "  \n",
    "  return out_layer\n",
    "\n",
    "\n",
    "mlp_relu = mlp(x, weights_relu, biases)\n",
    "cost_relu = tf.reduce_mean(tf.nn.softmax_cross_entropy_with_logits(logits=mlp_relu, labels=y_))\n",
    "optimizer_relu = tf.train.AdamOptimizer(learning_rate=learning_rate).minimize(cost_relu)\n",
    "\n",
    "with tf.Session() as sess:\n",
    "  tf.global_variables_initializer().run()\n",
    "  \n",
    "  fig,ax = plt.subplots(1,1)\n",
    "  ax.set_xlabel('Epoch')\n",
    "  ax.set_ylabel('Soft max entropy loss')\n",
    "  \n",
    "  xs, ytr, yte = [], [], []\n",
    "  \n",
    "  \n",
    "  for epoch in range(training_epochs):\n",
    "    train_avg_cost = 0.\n",
    "    test_avg_cost =0.\n",
    "    total_batch = int(mnist.train.num_examples/batch_size)\n",
    "\n",
    "\n",
    "  \n",
    "    for i in range(total_batch):\n",
    "      batch_xs, batch_ys = mnist.train.next_batch(batch_size)\n",
    "\n",
    "      _,c,w = sess.run([optimizer_relu, cost_relu, weights_relu], feed_dict={x: batch_xs, y_: batch_ys})\n",
    "      train_avg_cost += c/total_batch\n",
    "      c = sess.run(cost_relu, feed_dict={x:mnist.test.images, y_:mnist.test.labels})\n",
    "      test_avg_cost += c/total_batch\n",
    "    \n",
    "    xs.append(epoch)\n",
    "    ytr.append(train_avg_cost)\n",
    "    yte.append(test_avg_cost)\n",
    "    plt_dynamic(xs, ytr, yte, ax, np.arange(1.3, 1.8, step=0.04), \"input-ReLu(1024)-ReLu(512)-sigmoid(output)-AdamOptimizer\")\n",
    "\n",
    "    if epoch%display_step == 0:\n",
    "        print(\"Epoch:\", '%04d' % (epoch+1), \"train cost={:.9f}\".format(train_avg_cost), \"test cost={:.9f}\".format(test_avg_cost))\n",
    "\n",
    "  # plot final results\n",
    "  plt_dynamic(xs, ytr, yte, ax,np.arange(1.3, 1.8, step=0.04), \"input-ReLu(1024)-ReLu(512)-sigmoid(output)-AdamOptimizer\")\n",
    "\n",
    "  # we are calculating the final accuracy on the test data\n",
    "  correct_prediction = tf.equal(tf.argmax(mlp_relu,1), tf.argmax(y_,1))\n",
    "  accuracy = tf.reduce_mean(tf.cast(correct_prediction, tf.float32))\n",
    "  print(\"Accuracy:\", accuracy.eval({x: mnist.test.images, y_: mnist.test.labels}))\n",
    "    "
   ]
  },
  {
   "cell_type": "markdown",
   "metadata": {
    "colab_type": "text",
    "id": "hhE8tRe_p7eN"
   },
   "source": [
    "## Model 4"
   ]
  },
  {
   "cell_type": "code",
   "execution_count": 24,
   "metadata": {
    "colab": {
     "base_uri": "https://localhost:8080/",
     "height": 650
    },
    "colab_type": "code",
    "id": "Z28UGfMmNJVS",
    "outputId": "e5d4fcb1-219f-4678-d45b-f41115a6beb1"
   },
   "outputs": [
    {
     "name": "stdout",
     "output_type": "stream",
     "text": [
      "Epoch: 0001 train cost=1.665745419 test cost=1.592080234\n",
      "Epoch: 0002 train cost=1.519409406 test cost=1.492084821\n",
      "Epoch: 0003 train cost=1.502939610 test cost=1.485372858\n",
      "Epoch: 0004 train cost=1.495779381 test cost=1.482657024\n",
      "Epoch: 0005 train cost=1.491093225 test cost=1.480846340\n",
      "Epoch: 0006 train cost=1.487919479 test cost=1.479564512\n",
      "Epoch: 0007 train cost=1.484984713 test cost=1.478335650\n",
      "Epoch: 0008 train cost=1.483631849 test cost=1.477935527\n",
      "Epoch: 0009 train cost=1.481732125 test cost=1.477377241\n",
      "Epoch: 0010 train cost=1.481191325 test cost=1.476811171\n",
      "Epoch: 0011 train cost=1.480717178 test cost=1.476757502\n",
      "Epoch: 0012 train cost=1.478629358 test cost=1.475828145\n",
      "Epoch: 0013 train cost=1.478409420 test cost=1.475334742\n",
      "Epoch: 0014 train cost=1.477329294 test cost=1.475524197\n",
      "Epoch: 0015 train cost=1.477129333 test cost=1.475609389\n",
      "Accuracy: 0.9827\n"
     ]
    },
    {
     "data": {
      "image/png": "[encoded data removed]",
      "text/plain": [
       "<matplotlib.figure.Figure at 0x7fb4c1581160>"
      ]
     },
     "metadata": {
      "tags": []
     },
     "output_type": "display_data"
    }
   ],
   "source": [
    "n_hid_1 = 1024\n",
    "n_hid_2 = 512\n",
    "n_hid_3 = 128\n",
    "n_inp = 784\n",
    "n_cls = 10\n",
    "\n",
    "x = tf.placeholder(tf.float32,[None,784])\n",
    "y_ = tf.placeholder(tf.float32, [None, 10])\n",
    "\n",
    "keep_prob_tr = tf.placeholder(tf.float32)\n",
    "keep_prob_te = tf.placeholder(tf.float32)\n",
    "\n",
    "weights_relu = {'h1':tf.Variable(tf.random_normal([n_inp, n_hid_1], stddev=0.050, mean=0)),\n",
    "               'h2':tf.Variable(tf.random_normal([n_hid_1, n_hid_2], stddev=0.044, mean=0)),\n",
    "               'h3':tf.Variable(tf.random_normal([n_hid_2, n_hid_3], stddev=0.062, mean=0)),\n",
    "               'out': tf.Variable(tf.random_normal([n_hid_3, n_cls], stddev=0.124, mean=0))}\n",
    "\n",
    "biases = {'b1':tf.Variable(tf.random_normal([n_hid_1])),\n",
    "         'b2': tf.Variable(tf.random_normal([n_hid_2])),\n",
    "         'b3': tf.Variable(tf.random_normal([n_hid_3])),\n",
    "         'out':tf.Variable(tf.random_normal([n_cls]))}\n",
    "\n",
    "training_epochs = 15\n",
    "learning_rate = 0.001\n",
    "batch_size = 100\n",
    "display_step = 1\n",
    "epsilon = 1e-3\n",
    "\n",
    "def mlp(x, weights, biases):\n",
    "  layer_1 = tf.add(tf.matmul(x,weights['h1']), biases['b1'])\n",
    "  layer_1 = tf.nn.relu(layer_1)\n",
    "  layer_1_drop = tf.nn.dropout(layer_1, keep_prob_tr)\n",
    "  \n",
    "  layer_2 = tf.add(tf.matmul(layer_1_drop, weights['h2']), biases['b2'])\n",
    "  layer_2 = tf.nn.relu(layer_2)\n",
    "  layer_2_drop = tf.nn.dropout(layer_2, keep_prob_tr)\n",
    "  \n",
    "  layer_3 = tf.add(tf.matmul(layer_2_drop, weights['h3']), biases['b3'])\n",
    "  layer_3_drop = tf.nn.dropout(layer_3, keep_prob_tr)\n",
    "  batch_mean_3, batch_var_3 = tf.nn.moments(layer_3_drop, [0])\n",
    "  scale_3 = tf.Variable(tf.ones([n_hid_3]))\n",
    "  beta_3 = tf.Variable(tf.zeros([n_hid_3]))\n",
    "  layer_3_drop = tf.nn.batch_normalization(layer_3_drop, batch_mean_3, batch_var_3, beta_3, scale_3, epsilon)\n",
    "  layer_3_drop = tf.nn.relu(layer_3_drop)\n",
    "  \n",
    "  out_layer = tf.add(tf.matmul(layer_3_drop, weights['out']), biases['out'])\n",
    "  out_layer = tf.sigmoid(out_layer)\n",
    "  \n",
    "  return out_layer\n",
    "\n",
    "\n",
    "mlp_relu = mlp(x, weights_relu, biases)\n",
    "cost_relu = tf.reduce_mean(tf.nn.softmax_cross_entropy_with_logits(logits=mlp_relu, labels=y_))\n",
    "optimizer_relu = tf.train.AdamOptimizer(learning_rate=learning_rate).minimize(cost_relu)\n",
    "\n",
    "with tf.Session() as sess:\n",
    "  tf.global_variables_initializer().run()\n",
    "  \n",
    "  fig,ax = plt.subplots(1,1)\n",
    "  ax.set_xlabel('Epoch')\n",
    "  ax.set_ylabel('Soft max entropy loss')\n",
    "  \n",
    "  xs, ytr, yte = [], [], []\n",
    "  \n",
    "  \n",
    "  for epoch in range(training_epochs):\n",
    "    train_avg_cost = 0.\n",
    "    test_avg_cost =0.\n",
    "    total_batch = int(mnist.train.num_examples/batch_size)\n",
    "\n",
    "\n",
    "  \n",
    "    for i in range(total_batch):\n",
    "      batch_xs, batch_ys = mnist.train.next_batch(batch_size)\n",
    "\n",
    "      _,c,w = sess.run([optimizer_relu, cost_relu, weights_relu], feed_dict={x: batch_xs, y_: batch_ys, keep_prob_tr:0.5})\n",
    "      train_avg_cost += c/total_batch\n",
    "      c = sess.run(cost_relu, feed_dict={x:mnist.test.images, y_:mnist.test.labels, keep_prob_tr:1.0})\n",
    "      test_avg_cost += c/total_batch\n",
    "    \n",
    "    xs.append(epoch)\n",
    "    ytr.append(train_avg_cost)\n",
    "    yte.append(test_avg_cost)\n",
    "    plt_dynamic(xs, ytr, yte, ax, np.arange(1.3, 1.8, step=0.04), \"input-ReLu(1024)-ReLu(512)-Relu(128)-sigmoid(output)-AdamOptimizer_wBN_Dropout\")\n",
    "\n",
    "    if epoch%display_step == 0:\n",
    "        print(\"Epoch:\", '%04d' % (epoch+1), \"train cost={:.9f}\".format(train_avg_cost), \"test cost={:.9f}\".format(test_avg_cost))\n",
    "\n",
    "  # plot final results\n",
    "  plt_dynamic(xs, ytr, yte, ax,np.arange(1.3, 1.8, step=0.04), \"input-ReLu(1024)-ReLu(512)-Relu(128)-sigmoid(output)-AdamOptimizer_wBN_Dropout\")\n",
    "\n",
    "  # we are calculating the final accuracy on the test data\n",
    "  correct_prediction = tf.equal(tf.argmax(mlp_relu,1), tf.argmax(y_,1))\n",
    "  accuracy = tf.reduce_mean(tf.cast(correct_prediction, tf.float32))\n",
    "  print(\"Accuracy:\", accuracy.eval({x: mnist.test.images, y_: mnist.test.labels, keep_prob_tr:1.0}))\n",
    "    "
   ]
  },
  {
   "cell_type": "markdown",
   "metadata": {
    "colab_type": "text",
    "id": "5j1tOxB1p-1c"
   },
   "source": [
    "## Model 5"
   ]
  },
  {
   "cell_type": "code",
   "execution_count": 27,
   "metadata": {
    "colab": {
     "base_uri": "https://localhost:8080/",
     "height": 650
    },
    "colab_type": "code",
    "id": "0h0TBWs1-Xx9",
    "outputId": "40ef641b-008a-4f6a-eaa3-cc94a9c60e92"
   },
   "outputs": [
    {
     "name": "stdout",
     "output_type": "stream",
     "text": [
      "Epoch: 0001 train cost=1.802266698 test cost=1.682732691\n",
      "Epoch: 0002 train cost=1.551768458 test cost=1.496727644\n",
      "Epoch: 0003 train cost=1.520489790 test cost=1.487550196\n",
      "Epoch: 0004 train cost=1.508878298 test cost=1.484403091\n",
      "Epoch: 0005 train cost=1.502449824 test cost=1.481904979\n",
      "Epoch: 0006 train cost=1.498496057 test cost=1.480629074\n",
      "Epoch: 0007 train cost=1.494956058 test cost=1.479391036\n",
      "Epoch: 0008 train cost=1.493253020 test cost=1.478812763\n",
      "Epoch: 0009 train cost=1.490738950 test cost=1.477935618\n",
      "Epoch: 0010 train cost=1.490239991 test cost=1.477526513\n",
      "Epoch: 0011 train cost=1.487425790 test cost=1.476404337\n",
      "Epoch: 0012 train cost=1.487735510 test cost=1.476915840\n",
      "Epoch: 0013 train cost=1.485708476 test cost=1.476704069\n",
      "Epoch: 0014 train cost=1.484344537 test cost=1.476180622\n",
      "Epoch: 0015 train cost=1.483091684 test cost=1.475568813\n",
      "Accuracy: 0.9816\n"
     ]
    },
    {
     "data": {
      "image/png": "[encoded data removed]",
      "text/plain": [
       "<matplotlib.figure.Figure at 0x7fb4c04ef4a8>"
      ]
     },
     "metadata": {
      "tags": []
     },
     "output_type": "display_data"
    }
   ],
   "source": [
    "n_hid_1 = 1024\n",
    "n_hid_2 = 512\n",
    "n_hid_3 = 128\n",
    "n_hid_4 = 64\n",
    "n_inp = 784\n",
    "n_cls = 10\n",
    "\n",
    "x = tf.placeholder(tf.float32,[None,784])\n",
    "y_ = tf.placeholder(tf.float32, [None, 10])\n",
    "\n",
    "keep_prob_tr = tf.placeholder(tf.float32)\n",
    "keep_prob_te = tf.placeholder(tf.float32)\n",
    "\n",
    "weights_relu = {'h1':tf.Variable(tf.random_normal([n_inp, n_hid_1], stddev=0.050, mean=0)),\n",
    "               'h2':tf.Variable(tf.random_normal([n_hid_1, n_hid_2], stddev=0.044, mean=0)),\n",
    "               'h3':tf.Variable(tf.random_normal([n_hid_2, n_hid_3], stddev=0.062, mean=0)),\n",
    "               'h4': tf.Variable(tf.random_normal([n_hid_3, n_hid_4], stddev=0.124, mean=0)),\n",
    "               'out': tf.Variable(tf.random_normal([n_hid_4, n_cls], stddev=0.175, mean=0)),}\n",
    "\n",
    "biases = {'b1':tf.Variable(tf.random_normal([n_hid_1])),\n",
    "         'b2': tf.Variable(tf.random_normal([n_hid_2])),\n",
    "         'b3': tf.Variable(tf.random_normal([n_hid_3])),\n",
    "         'b4': tf.Variable(tf.random_normal([n_hid_4])),\n",
    "         'out':tf.Variable(tf.random_normal([n_cls]))}\n",
    "\n",
    "training_epochs = 15\n",
    "learning_rate = 0.001\n",
    "batch_size = 100\n",
    "display_step = 1\n",
    "epsilon = 1e-3\n",
    "\n",
    "def mlp(x, weights, biases):\n",
    "  layer_1 = tf.add(tf.matmul(x,weights['h1']), biases['b1'])\n",
    "  layer_1 = tf.nn.relu(layer_1)\n",
    "  layer_1_drop = tf.nn.dropout(layer_1, keep_prob_tr)\n",
    "  \n",
    "  layer_2 = tf.add(tf.matmul(layer_1_drop, weights['h2']), biases['b2'])\n",
    "  layer_2 = tf.nn.relu(layer_2)\n",
    "  layer_2_drop = tf.nn.dropout(layer_2, keep_prob_tr)\n",
    "  \n",
    "  layer_3 = tf.add(tf.matmul(layer_2_drop, weights['h3']), biases['b3'])\n",
    "  layer_3_drop = tf.nn.dropout(layer_3, keep_prob_tr)\n",
    "  batch_mean_3, batch_var_3 = tf.nn.moments(layer_3_drop, [0])\n",
    "  scale_3 = tf.Variable(tf.ones([n_hid_3]))\n",
    "  beta_3 = tf.Variable(tf.zeros([n_hid_3]))\n",
    "  layer_3_drop = tf.nn.batch_normalization(layer_3_drop, batch_mean_3, batch_var_3, beta_3, scale_3, epsilon)\n",
    "  layer_3_drop = tf.nn.relu(layer_3_drop)\n",
    "  \n",
    "  layer_4 = tf.add(tf.matmul(layer_3_drop, weights['h4']), biases['b4'])\n",
    "  layer_4_drop = tf.nn.dropout(layer_4, keep_prob_tr)\n",
    "  batch_mean_4, batch_var_4 = tf.nn.moments(layer_4_drop, [0])\n",
    "  scale_4 = tf.Variable(tf.ones([n_hid_4]))\n",
    "  beta_4 = tf.Variable(tf.zeros([n_hid_4]))\n",
    "  layer_4_drop = tf.nn.batch_normalization(layer_4_drop, batch_mean_4, batch_var_4, beta_4, scale_4, epsilon)\n",
    "  layer_4_drop = tf.nn.relu(layer_4_drop)\n",
    "  \n",
    "  out_layer = tf.add(tf.matmul(layer_4_drop, weights['out']), biases['out'])\n",
    "  out_layer = tf.sigmoid(out_layer)\n",
    "  \n",
    "  return out_layer\n",
    "\n",
    "\n",
    "mlp_relu = mlp(x, weights_relu, biases)\n",
    "cost_relu = tf.reduce_mean(tf.nn.softmax_cross_entropy_with_logits(logits=mlp_relu, labels=y_))\n",
    "optimizer_relu = tf.train.AdamOptimizer(learning_rate=learning_rate).minimize(cost_relu)\n",
    "\n",
    "with tf.Session() as sess:\n",
    "  tf.global_variables_initializer().run()\n",
    "  \n",
    "  fig,ax = plt.subplots(1,1)\n",
    "  ax.set_xlabel('Epoch')\n",
    "  ax.set_ylabel('Soft max entropy loss')\n",
    "  \n",
    "  xs, ytr, yte = [], [], []\n",
    "  \n",
    "  \n",
    "  for epoch in range(training_epochs):\n",
    "    train_avg_cost = 0.\n",
    "    test_avg_cost =0.\n",
    "    total_batch = int(mnist.train.num_examples/batch_size)\n",
    "\n",
    "\n",
    "  \n",
    "    for i in range(total_batch):\n",
    "      batch_xs, batch_ys = mnist.train.next_batch(batch_size)\n",
    "\n",
    "      _,c,w = sess.run([optimizer_relu, cost_relu, weights_relu], feed_dict={x: batch_xs, y_: batch_ys, keep_prob_tr:0.5})\n",
    "      train_avg_cost += c/total_batch\n",
    "      c = sess.run(cost_relu, feed_dict={x:mnist.test.images, y_:mnist.test.labels, keep_prob_tr:1.0})\n",
    "      test_avg_cost += c/total_batch\n",
    "    \n",
    "    xs.append(epoch)\n",
    "    ytr.append(train_avg_cost)\n",
    "    yte.append(test_avg_cost)\n",
    "    plt_dynamic(xs, ytr, yte, ax, np.arange(1.3, 1.8, step=0.04), \"input-ReLu(1024)-ReLu(512)-Relu(128)-Relu(64)-sigmoid(output)-AdamOptimizer_wBN_Dropout\")\n",
    "\n",
    "    if epoch%display_step == 0:\n",
    "        print(\"Epoch:\", '%04d' % (epoch+1), \"train cost={:.9f}\".format(train_avg_cost), \"test cost={:.9f}\".format(test_avg_cost))\n",
    "\n",
    "  # plot final results\n",
    "  plt_dynamic(xs, ytr, yte, ax,np.arange(1.3, 1.8, step=0.04), \"input-ReLu(1024)-ReLu(512)-Relu(128)-Relu(64)-sigmoid(output)-AdamOptimizer_wBN_Dropout\")\n",
    "\n",
    "  # we are calculating the final accuracy on the test data\n",
    "  correct_prediction = tf.equal(tf.argmax(mlp_relu,1), tf.argmax(y_,1))\n",
    "  accuracy = tf.reduce_mean(tf.cast(correct_prediction, tf.float32))\n",
    "  print(\"Accuracy:\", accuracy.eval({x: mnist.test.images, y_: mnist.test.labels, keep_prob_tr:1.0}))\n",
    "    "
   ]
  },
  {
   "cell_type": "markdown",
   "metadata": {
    "colab_type": "text",
    "id": "grwg4JsbqDpF"
   },
   "source": [
    "# Conclusion\n",
    "\n",
    "**Architecture**:\n",
    "\n",
    "\n",
    "1.   **Model 1**: Basic Softmax\n",
    "2.   **Model 2**: input-ReLu(512)-ReLu(128)-sigmoid(output)-AdamOptimizer\n",
    "3.   **Model 3**: input-ReLu(1024)-ReLu(512)-sigmoid(output)-AdamOptimizer\n",
    "4.   **Model 4**: input-ReLu(1024)-ReLu(512)-Relu(128)-sigmoid(output)-AdamOptimizer_wBN_Dropout\n",
    "5.   **Model 5**: input-ReLu(1024)-ReLu(512)-Relu(128)-Relu(64)-sigmoid(output)-AdamOptimizer_wBN_Dropout\n",
    "\n",
    "\n",
    "| Model | Train cost | Test cost | Accuracy |\n",
    "| --- | --- | --- | --- |\n",
    "| Model 1 | N/A | N/A | 90.10 % |\n",
    "| Model 2 | 1.466 | 1.479 | 97.55 % |\n",
    "| Model 3 | 1.466 | 1.479 | 98.10 % |\n",
    "| Model 4 | 1.477 | 1.475 | 98.27 % |\n",
    "| Model 5 | 1.483 | 1.475 | 98.16 % |"
   ]
  }
 ],
 "metadata": {
  "colab": {
   "collapsed_sections": [],
   "name": "MNIST_MLP.ipynb",
   "provenance": [],
   "version": "0.3.2"
  },
  "kernelspec": {
   "display_name": "Python 3",
   "language": "python",
   "name": "python3"
  },
  "language_info": {
   "codemirror_mode": {
    "name": "ipython",
    "version": 3
   },
   "file_extension": ".py",
   "mimetype": "text/x-python",
   "name": "python",
   "nbconvert_exporter": "python",
   "pygments_lexer": "ipython3",
   "version": "3.6.5"
  }
 },
 "nbformat": 4,
 "nbformat_minor": 1
}
